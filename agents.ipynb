{
 "cells": [
  {
   "cell_type": "code",
   "execution_count": 22,
   "metadata": {},
   "outputs": [],
   "source": [
    "from typing import List, Text\n",
    "\n",
    "\n",
    "class NoAgentFoundException(Exception):\n",
    "    pass\n",
    "\n",
    "\n",
    "class Agent(object):\n",
    "\n",
    "    def __init__(self, name, skills: List, load: int):\n",
    "        self.name = name\n",
    "        self.skills = skills\n",
    "        self.load = load\n",
    "\n",
    "    def __str__(self):\n",
    "        return \"<Agent: {}>\".format(self._name)\n",
    "\n",
    "\n",
    "class Ticket(object):\n",
    "\n",
    "    def __init__(self, id: int, restrictions: List):\n",
    "        self.id = id\n",
    "        self.restrictions = restrictions\n",
    "    \n",
    "\n",
    "class FinderPolicy(object):\n",
    "    def _filter_loaded_agents(self, agents: List[Agent]) -> List[Agent]:\n",
    "        return agents\n",
    "        #raise NotImplemented\n",
    "\n",
    "    def find(self, ticket: Ticket, agents: List[Agent]) -> Agent:\n",
    "        raise NotImplemented\n",
    "\n",
    "\n",
    "class LeastLoadedAgent(): #FinderPolicy\n",
    "    def find(self, ticket: Ticket, agents: List[Agent]) -> Agent:\n",
    "\n",
    "        # Peter 1\n",
    "        x = min(((i, agent.load) for i, agent in enumerate(agents)), key=lambda x: x[1])\n",
    "        # Peter 2\n",
    "        index = min(range(len(agents)), key=lambda i:agents[i].load)\n",
    "        # Peter 3\n",
    "        load = []\n",
    "        for i in agents:\n",
    "            load.append(i.load)\n",
    "        agent = [a.name for a in agents if a.load == min(load)]\n",
    "        return agents[index].name\n",
    "        #raise NotImplemented               \n",
    "\n",
    "class LeastFlexibleAgent(FinderPolicy):\n",
    "    def find(self, ticket: Ticket, agents: List[Agent]) -> Agent:\n",
    "        raise NotImplemented"
   ]
  },
  {
   "cell_type": "code",
   "execution_count": 23,
   "metadata": {},
   "outputs": [
    {
     "data": {
      "text/plain": [
       "'B'"
      ]
     },
     "execution_count": 23,
     "metadata": {},
     "output_type": "execute_result"
    }
   ],
   "source": [
    "ticket = Ticket(id=\"1\", restrictions=[\"English\"])\n",
    "agent1 = Agent(name=\"A\", skills=[\"English\"], load=2)\n",
    "agent2 = Agent(name=\"B\", skills=[\"English\", \"Japanese\"], load=0)\n",
    "\n",
    "available = LeastLoadedAgent()\n",
    "available.find(ticket, agents = [agent1,agent2])\n",
    "\n"
   ]
  },
  {
   "cell_type": "code",
   "execution_count": null,
   "metadata": {},
   "outputs": [],
   "source": []
  }
 ],
 "metadata": {
  "interpreter": {
   "hash": "d4d1e4263499bec80672ea0156c357c1ee493ec2b1c70f0acce89fc37c4a6abe"
  },
  "kernelspec": {
   "display_name": "Python 3.7.6 64-bit ('base': conda)",
   "name": "python3"
  },
  "language_info": {
   "codemirror_mode": {
    "name": "ipython",
    "version": 3
   },
   "file_extension": ".py",
   "mimetype": "text/x-python",
   "name": "python",
   "nbconvert_exporter": "python",
   "pygments_lexer": "ipython3",
   "version": "3.7.6"
  },
  "orig_nbformat": 4
 },
 "nbformat": 4,
 "nbformat_minor": 2
}
