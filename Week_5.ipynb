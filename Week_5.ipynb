{
 "cells": [
  {
   "cell_type": "markdown",
   "source": [
    "# Week 5 Hand-in"
   ],
   "metadata": {}
  },
  {
   "cell_type": "markdown",
   "source": [
    "## Class exercise 1\n"
   ],
   "metadata": {}
  },
  {
   "cell_type": "code",
   "execution_count": 19,
   "source": [
    "%pylab inline \n",
    "import pandas as pd\n",
    "import numpy as np\n",
    "\n",
    "data = np.array([['','Col1','Col2','col3'],['Row1',1,2,3],['Row2',4,5,6],['Row3',7,8,9]])\n",
    "\n",
    "df = pd.DataFrame(data=data[1:4,1:4], columns=data[0,1:4], index=data[1:4,0])\n",
    "\n",
    "#print('1', df['Col2'])\n",
    "print('2', df.iloc[:, 2])\n",
    "#print('3', df.iloc[2, 1])\n",
    "#print('4', df.head())\n",
    "\n",
    "\n"
   ],
   "outputs": [
    {
     "output_type": "stream",
     "name": "stdout",
     "text": [
      "Populating the interactive namespace from numpy and matplotlib\n",
      "2 Row1    3\n",
      "Row2    6\n",
      "Row3    9\n",
      "Name: col3, dtype: object\n"
     ]
    }
   ],
   "metadata": {}
  },
  {
   "cell_type": "markdown",
   "source": [],
   "metadata": {}
  },
  {
   "cell_type": "markdown",
   "source": [
    "## Load Data 2008"
   ],
   "metadata": {}
  },
  {
   "cell_type": "code",
   "execution_count": null,
   "source": [
    "# DF for all danes Married & Divorced 2008\n",
    "df2008 = pd.read_csv('https://api.statbank.dk/v1/data/FOLK1A/CSV?delimiter=Semicolon&OMR%C3%85DE=*&K%C3%98N=1%2C2&ALDER=*&CIVILSTAND=G%2CF&Tid=2008K1',sep=';')\n",
    "# SUB-DF totals for all danes Married & Divorced 2008\n",
    "sub_df2008_total_country_and_gender = df2008.loc[(df2008['ALDER']=='I alt') & (df2008['OMRÅDE']=='Hele landet')]\n",
    "\n",
    "#df2008.head()\n",
    "#df2008.columns\n",
    "#type(df2008)\n",
    "#df2008.shape\n",
    "#print(set(df2008['ALDER']))\n"
   ],
   "outputs": [],
   "metadata": {}
  },
  {
   "cell_type": "markdown",
   "source": [
    "## Load Data 2020\n"
   ],
   "metadata": {}
  },
  {
   "cell_type": "code",
   "execution_count": null,
   "source": [
    "# DF for all danes Married & Divorced 2020\n",
    "df2020 = pd.read_csv('https://api.statbank.dk/v1/data/FOLK1A/CSV?delimiter=Semicolon&OMR%C3%85DE=*&K%C3%98N=1%2C2&ALDER=*&CIVILSTAND=G%2CF&Tid=2020K4',sep=';')\n",
    "\n",
    "# SUB-DF totals for all danes Married & Divorced 2020\n",
    "sub_df2020_total_country_and_gender = df2020.loc[(df2020['ALDER']=='I alt') & (df2020['OMRÅDE']=='Hele landet')]\n",
    "df2020.head()"
   ],
   "outputs": [],
   "metadata": {}
  },
  {
   "cell_type": "markdown",
   "source": [
    "## Exercise 5.1\n"
   ],
   "metadata": {}
  },
  {
   "cell_type": "code",
   "execution_count": null,
   "source": [
    "import matplotlib.pyplot as plt\n",
    "\n",
    "def civilstand_total(sub_df :df, status :str):\n",
    "    values = {}\n",
    "    civilstand = sub_df.loc[sub_df['CIVILSTAND'] == status]\n",
    "    sum = civilstand['INDHOLD'].sum()\n",
    "    \n",
    "    return sum\n",
    "\n",
    "divorced_2008 = civilstand_total(sub_df2008_total_country_and_gender, 'Fraskilt')\n",
    "married_2008 = civilstand_total(sub_df2008_total_country_and_gender, 'Gift/separeret')\n",
    "\n",
    "divorced_2020 = civilstand_total(sub_df2020_total_country_and_gender, 'Fraskilt')\n",
    "married_2020 = civilstand_total(sub_df2020_total_country_and_gender, 'Gift/separeret')\n",
    "\n",
    "def percent_change():\n",
    "    divorced = math.floor(((divorced_2020-divorced_2008)/divorced_2020)*100)\n",
    "    married = math.floor(((married_2020-married_2008)/married_2020)*100)\n",
    "    print('Divorced percentage change 2008 to 2020:', divorced, '%')\n",
    "    print('Married percentage change 2008 to 2020:', married, '%')\n",
    "    xpoints = (['Divorced', 'Married'])\n",
    "    ypoints = ([divorced, married])\n",
    "    plt.plot(xpoints, ypoints, 'o')\n",
    "plt.xlabel(\"Marital status\")\n",
    "plt.ylabel(\"Percent\")\n",
    "plt.title(\"Percent change from 2008 to 2020 \")\n",
    "percent_change()\n",
    "\n",
    "print('Divorced in 2008:', divorced_2008)\n",
    "print('Married in 2008:', married_2008)\n",
    "print('Divorced in 2020:', divorced_2020)\n",
    "print('Married in 2020:', married_2020)\n",
    "\n"
   ],
   "outputs": [],
   "metadata": {}
  },
  {
   "cell_type": "markdown",
   "source": [
    "## Exercise 5.2\n"
   ],
   "metadata": {}
  },
  {
   "cell_type": "code",
   "execution_count": 29,
   "source": [
    "### Which of the 5 biggest cities has the highest percentage of 'Never Married' in 2020?\n",
    "%pylab inline \n",
    "import pandas as pd\n",
    "df2020_5_2 = pd.read_csv('https://api.statbank.dk/v1/data/FOLK1A/CSV?delimiter=Semicolon&OMR%C3%85DE=*&K%C3%98N=TOT&ALDER=IALT&CIVILSTAND=*&Tid=2020K4', sep=';')\n",
    "df2020_5_2.head()\n",
    "x_country = df2020_5_2.loc[(df2020_5_2['OMRÅDE']!='Hele landet') & (~df2020_5_2['OMRÅDE'].str.contains('Region')) & (df2020_5_2['CIVILSTAND'] == 'I alt')]\n",
    "x_sorted = x_country.sort_values('INDHOLD', ascending=False).iloc[:5,:]\n",
    "\n",
    "city_sliced = list(x_sorted.loc[:, 'OMRÅDE'])\n",
    "\n",
    "hejsa = {}\n",
    "for n in city_sliced:  \n",
    "    x = \"'%s'\" % n\n",
    "    new_df = df2020_5_2.loc[(df2020_5_2['OMRÅDE'] == n) & (df2020_5_2['CIVILSTAND'] == 'Ugift')] \n",
    "    sum = new_df.iloc[0, 5]\n",
    "    hejsa.setdefault(n, sum)\n",
    "print(hejsa)\n",
    "\n"
   ],
   "outputs": [
    {
     "output_type": "stream",
     "name": "stdout",
     "text": [
      "Populating the interactive namespace from numpy and matplotlib\n",
      "{'København': 417782, 'Aarhus': 211863, 'Aalborg': 120226, 'Odense': 113639, 'Vejle': 55116}\n"
     ]
    }
   ],
   "metadata": {}
  },
  {
   "cell_type": "code",
   "execution_count": null,
   "source": [],
   "outputs": [],
   "metadata": {}
  }
 ],
 "metadata": {
  "interpreter": {
   "hash": "98b0a9b7b4eaaa670588a142fd0a9b87eaafe866f1db4228be72b4211d12040f"
  },
  "kernelspec": {
   "name": "python3",
   "display_name": "Python 3.7.6 64-bit ('base': conda)"
  },
  "language_info": {
   "codemirror_mode": {
    "name": "ipython",
    "version": 3
   },
   "file_extension": ".py",
   "mimetype": "text/x-python",
   "name": "python",
   "nbconvert_exporter": "python",
   "pygments_lexer": "ipython3",
   "version": "3.7.6"
  }
 },
 "nbformat": 4,
 "nbformat_minor": 4
}