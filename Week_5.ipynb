{
 "cells": [
  {
   "cell_type": "markdown",
   "source": [
    "# Week 5 Hand-in"
   ],
   "metadata": {}
  },
  {
   "cell_type": "markdown",
   "source": [
    "## Class exercise 1\n"
   ],
   "metadata": {}
  },
  {
   "cell_type": "code",
   "execution_count": 109,
   "source": [
    "%pylab inline \n",
    "import pandas as pd\n",
    "import numpy as np\n",
    "\n",
    "data = np.array([['','Col1','Col2','col3'],['Row1',1,2,3],['Row2',4,5,6],['Row3',7,8,9]])\n",
    "\n",
    "df = pd.DataFrame(data=data[1:4,1:4], columns=data[0,1:4], index=data[1:4,0])\n",
    "\n",
    "#print('1', df['Col2'])\n",
    "#print('2', df.iloc[:, 2])\n",
    "#print('3', df.iloc[2, 1])\n",
    "#print('4', df.head())\n",
    "\n",
    "\n"
   ],
   "outputs": [
    {
     "output_type": "stream",
     "name": "stdout",
     "text": [
      "Populating the interactive namespace from numpy and matplotlib\n"
     ]
    }
   ],
   "metadata": {}
  },
  {
   "cell_type": "markdown",
   "source": [],
   "metadata": {}
  },
  {
   "cell_type": "code",
   "execution_count": 110,
   "source": [
    "# DF for all danes Married & Divorced 2008\n",
    "df2008 = pd.read_csv('https://api.statbank.dk/v1/data/FOLK1A/CSV?delimiter=Semicolon&OMR%C3%85DE=*&K%C3%98N=1%2C2&ALDER=*&CIVILSTAND=G%2CF&Tid=2008K1',sep=';')\n",
    "# SUB-DF totals for all danes Married & Divorced 2008\n",
    "sub_df2008_total_country_and_gender = df2008.loc[(df2008['ALDER']=='I alt') & (df2008['OMRÅDE']=='Hele landet')]\n",
    "\n",
    "#df2008.head()\n",
    "#df2008.columns\n",
    "#type(df2008)\n",
    "#df2008.shape\n",
    "#print(set(df2008['ALDER']))\n"
   ],
   "outputs": [],
   "metadata": {}
  },
  {
   "cell_type": "code",
   "execution_count": 111,
   "source": [
    "# DF for all danes Married & Divorced 2020\n",
    "df2020 = pd.read_csv('https://api.statbank.dk/v1/data/FOLK1A/CSV?delimiter=Semicolon&OMR%C3%85DE=*&K%C3%98N=1%2C2&ALDER=*&CIVILSTAND=G%2CF&Tid=2020K4',sep=';')\n",
    "\n",
    "# SUB-DF totals for all danes Married & Divorced 2020\n",
    "sub_df2020_total_country_and_gender = df2020.loc[(df2020['ALDER']=='I alt') & (df2020['OMRÅDE']=='Hele landet')]"
   ],
   "outputs": [],
   "metadata": {}
  },
  {
   "cell_type": "code",
   "execution_count": 188,
   "source": [
    "import matplotlib.pyplot as plt\n",
    "\n",
    "def civilstand_total(sub_df :df, status :str):\n",
    "    values = {}\n",
    "    civilstand = sub_df.loc[sub_df['CIVILSTAND'] == status]\n",
    "    sum = civilstand['INDHOLD'].sum()\n",
    "    \n",
    "    return sum\n",
    "\n",
    "divorced_2008 = civilstand_total(sub_df2008_total_country_and_gender, 'Fraskilt')\n",
    "married_2008 = civilstand_total(sub_df2008_total_country_and_gender, 'Gift/separeret')\n",
    "\n",
    "divorced_2020 = civilstand_total(sub_df2020_total_country_and_gender, 'Fraskilt')\n",
    "married_2020 = civilstand_total(sub_df2020_total_country_and_gender, 'Gift/separeret')\n",
    "\n",
    "def percent_change():\n",
    "    divorced = math.floor(((divorced_2020-divorced_2008)/divorced_2020)*100)\n",
    "    married = math.floor(((married_2020-married_2008)/married_2020)*100)\n",
    "    print('Divorced', divorced)\n",
    "    print('Married', married)\n",
    "    xpoints = (['Divorced', 'Married'])\n",
    "    ypoints = ([divorced, married])\n",
    "    plt.plot(xpoints, ypoints, 'o')\n",
    "plt.xlabel(\"Marital status\")\n",
    "plt.ylabel(\"Percent\")\n",
    "plt.title(\"Percent change from 2008 to 2020 \")\n",
    "percent_change()\n",
    "\n",
    "print('Divorced in 2008:', divorced_2008)\n",
    "print('Married in 2008:', married_2008)\n",
    "print('Divorced in 2020:', divorced_2020)\n",
    "print('Married in 2020:', married_2020)\n",
    "\n"
   ],
   "outputs": [
    {
     "output_type": "stream",
     "name": "stdout",
     "text": [
      "Divorced 22\n",
      "Married -2\n",
      "Divorced in 2008: 428864\n",
      "Married in 2008: 2176977\n",
      "Divorced in 2020: 552419\n",
      "Married in 2020: 2138124\n"
     ]
    },
    {
     "output_type": "display_data",
     "data": {
      "image/png": "[encoded data removed]",
      "text/plain": [
       "<Figure size 432x288 with 1 Axes>"
      ]
     },
     "metadata": {
      "needs_background": "light"
     }
    }
   ],
   "metadata": {}
  }
 ],
 "metadata": {
  "interpreter": {
   "hash": "98b0a9b7b4eaaa670588a142fd0a9b87eaafe866f1db4228be72b4211d12040f"
  },
  "kernelspec": {
   "name": "python3",
   "display_name": "Python 3.7.6 64-bit ('base': conda)"
  },
  "language_info": {
   "codemirror_mode": {
    "name": "ipython",
    "version": 3
   },
   "file_extension": ".py",
   "mimetype": "text/x-python",
   "name": "python",
   "nbconvert_exporter": "python",
   "pygments_lexer": "ipython3",
   "version": "3.7.6"
  }
 },
 "nbformat": 4,
 "nbformat_minor": 4
}