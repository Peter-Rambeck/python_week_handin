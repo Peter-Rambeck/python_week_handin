{
 "cells": [
  {
   "cell_type": "markdown",
   "source": [
    "# Week 5 Hand-in"
   ],
   "metadata": {}
  },
  {
   "cell_type": "markdown",
   "source": [
    "## Class exercise 1\n"
   ],
   "metadata": {}
  },
  {
   "cell_type": "code",
   "execution_count": 1,
   "source": [
    "%pylab inline \n",
    "import pandas as pd\n",
    "import numpy as np\n",
    "\n",
    "data = np.array([['','Col1','Col2','col3'],['Row1',1,2,3],['Row2',4,5,6],['Row3',7,8,9]])\n",
    "\n",
    "df = pd.DataFrame(data=data[1:4,1:4], columns=data[0,1:4], index=data[1:4,0])\n",
    "\n",
    "#print('1', df['Col2'])\n",
    "print('2', df.iloc[:, 2])\n",
    "#print('3', df.iloc[2, 1])\n",
    "#print('4', df.head())\n",
    "\n",
    "\n"
   ],
   "outputs": [
    {
     "output_type": "stream",
     "name": "stdout",
     "text": [
      "Populating the interactive namespace from numpy and matplotlib\n",
      "2 Row1    3\n",
      "Row2    6\n",
      "Row3    9\n",
      "Name: col3, dtype: object\n"
     ]
    }
   ],
   "metadata": {}
  },
  {
   "cell_type": "markdown",
   "source": [],
   "metadata": {}
  },
  {
   "cell_type": "markdown",
   "source": [
    "## Load Data 2008"
   ],
   "metadata": {}
  },
  {
   "cell_type": "code",
   "execution_count": 2,
   "source": [
    "# DF for all danes Married & Divorced 2008\n",
    "df2008 = pd.read_csv('https://api.statbank.dk/v1/data/FOLK1A/CSV?delimiter=Semicolon&OMR%C3%85DE=*&K%C3%98N=1%2C2&ALDER=*&CIVILSTAND=G%2CF&Tid=2008K1',sep=';')\n",
    "# SUB-DF totals for all danes Married & Divorced 2008\n",
    "sub_df2008_total_country_and_gender = df2008.loc[(df2008['ALDER']=='I alt') & (df2008['OMRÅDE']=='Hele landet')]\n",
    "\n",
    "#df2008.head()\n",
    "#df2008.columns\n",
    "#type(df2008)\n",
    "#df2008.shape\n",
    "#print(set(df2008['ALDER']))\n"
   ],
   "outputs": [],
   "metadata": {}
  },
  {
   "cell_type": "markdown",
   "source": [
    "## Load Data 2020\n"
   ],
   "metadata": {}
  },
  {
   "cell_type": "code",
   "execution_count": 3,
   "source": [
    "# DF for all danes Married & Divorced 2020\n",
    "df2020 = pd.read_csv('https://api.statbank.dk/v1/data/FOLK1A/CSV?delimiter=Semicolon&OMR%C3%85DE=*&K%C3%98N=1%2C2&ALDER=*&CIVILSTAND=G%2CF&Tid=2020K4',sep=';')\n",
    "\n",
    "# SUB-DF totals for all danes Married & Divorced 2020\n",
    "sub_df2020_total_country_and_gender = df2020.loc[(df2020['ALDER']=='I alt') & (df2020['OMRÅDE']=='Hele landet')]\n",
    "df2020.head()"
   ],
   "outputs": [
    {
     "output_type": "execute_result",
     "data": {
      "text/html": [
       "<div>\n",
       "<style scoped>\n",
       "    .dataframe tbody tr th:only-of-type {\n",
       "        vertical-align: middle;\n",
       "    }\n",
       "\n",
       "    .dataframe tbody tr th {\n",
       "        vertical-align: top;\n",
       "    }\n",
       "\n",
       "    .dataframe thead th {\n",
       "        text-align: right;\n",
       "    }\n",
       "</style>\n",
       "<table border=\"1\" class=\"dataframe\">\n",
       "  <thead>\n",
       "    <tr style=\"text-align: right;\">\n",
       "      <th></th>\n",
       "      <th>OMRÅDE</th>\n",
       "      <th>KØN</th>\n",
       "      <th>ALDER</th>\n",
       "      <th>CIVILSTAND</th>\n",
       "      <th>TID</th>\n",
       "      <th>INDHOLD</th>\n",
       "    </tr>\n",
       "  </thead>\n",
       "  <tbody>\n",
       "    <tr>\n",
       "      <th>0</th>\n",
       "      <td>Hele landet</td>\n",
       "      <td>Mænd</td>\n",
       "      <td>I alt</td>\n",
       "      <td>Gift/separeret</td>\n",
       "      <td>2020K4</td>\n",
       "      <td>1072984</td>\n",
       "    </tr>\n",
       "    <tr>\n",
       "      <th>1</th>\n",
       "      <td>Hele landet</td>\n",
       "      <td>Mænd</td>\n",
       "      <td>I alt</td>\n",
       "      <td>Fraskilt</td>\n",
       "      <td>2020K4</td>\n",
       "      <td>239684</td>\n",
       "    </tr>\n",
       "    <tr>\n",
       "      <th>2</th>\n",
       "      <td>Hele landet</td>\n",
       "      <td>Mænd</td>\n",
       "      <td>0 år</td>\n",
       "      <td>Gift/separeret</td>\n",
       "      <td>2020K4</td>\n",
       "      <td>0</td>\n",
       "    </tr>\n",
       "    <tr>\n",
       "      <th>3</th>\n",
       "      <td>Hele landet</td>\n",
       "      <td>Mænd</td>\n",
       "      <td>0 år</td>\n",
       "      <td>Fraskilt</td>\n",
       "      <td>2020K4</td>\n",
       "      <td>0</td>\n",
       "    </tr>\n",
       "    <tr>\n",
       "      <th>4</th>\n",
       "      <td>Hele landet</td>\n",
       "      <td>Mænd</td>\n",
       "      <td>1 år</td>\n",
       "      <td>Gift/separeret</td>\n",
       "      <td>2020K4</td>\n",
       "      <td>0</td>\n",
       "    </tr>\n",
       "  </tbody>\n",
       "</table>\n",
       "</div>"
      ],
      "text/plain": [
       "        OMRÅDE   KØN  ALDER      CIVILSTAND     TID  INDHOLD\n",
       "0  Hele landet  Mænd  I alt  Gift/separeret  2020K4  1072984\n",
       "1  Hele landet  Mænd  I alt        Fraskilt  2020K4   239684\n",
       "2  Hele landet  Mænd   0 år  Gift/separeret  2020K4        0\n",
       "3  Hele landet  Mænd   0 år        Fraskilt  2020K4        0\n",
       "4  Hele landet  Mænd   1 år  Gift/separeret  2020K4        0"
      ]
     },
     "metadata": {},
     "execution_count": 3
    }
   ],
   "metadata": {}
  },
  {
   "cell_type": "markdown",
   "source": [
    "## Exercise 5.A.\n"
   ],
   "metadata": {}
  },
  {
   "cell_type": "code",
   "execution_count": 4,
   "source": [
    "import matplotlib.pyplot as plt\n",
    "\n",
    "def civilstand_total(sub_df :df, status :str):\n",
    "    values = {}\n",
    "    civilstand = sub_df.loc[sub_df['CIVILSTAND'] == status]\n",
    "    sum = civilstand['INDHOLD'].sum()\n",
    "    \n",
    "    return sum\n",
    "\n",
    "divorced_2008 = civilstand_total(sub_df2008_total_country_and_gender, 'Fraskilt')\n",
    "married_2008 = civilstand_total(sub_df2008_total_country_and_gender, 'Gift/separeret')\n",
    "\n",
    "divorced_2020 = civilstand_total(sub_df2020_total_country_and_gender, 'Fraskilt')\n",
    "married_2020 = civilstand_total(sub_df2020_total_country_and_gender, 'Gift/separeret')\n",
    "\n",
    "def percent_change():\n",
    "    divorced = math.floor(((divorced_2020-divorced_2008)/divorced_2020)*100)\n",
    "    married = math.floor(((married_2020-married_2008)/married_2020)*100)\n",
    "    print('Divorced percentage change 2008 to 2020:', divorced, '%')\n",
    "    print('Married percentage change 2008 to 2020:', married, '%')\n",
    "    xpoints = (['Divorced', 'Married'])\n",
    "    ypoints = ([divorced, married])\n",
    "    plt.plot(xpoints, ypoints, 'o')\n",
    "plt.xlabel(\"Marital status\")\n",
    "plt.ylabel(\"Percent\")\n",
    "plt.title(\"Percent change from 2008 to 2020 \")\n",
    "percent_change()\n",
    "\n",
    "print('Divorced in 2008:', divorced_2008)\n",
    "print('Married in 2008:', married_2008)\n",
    "print('Divorced in 2020:', divorced_2020)\n",
    "print('Married in 2020:', married_2020)\n",
    "\n"
   ],
   "outputs": [
    {
     "output_type": "stream",
     "name": "stdout",
     "text": [
      "Divorced percentage change 2008 to 2020: 22 %\n",
      "Married percentage change 2008 to 2020: -2 %\n",
      "Divorced in 2008: 428864\n",
      "Married in 2008: 2176977\n",
      "Divorced in 2020: 552419\n",
      "Married in 2020: 2138124\n"
     ]
    },
    {
     "output_type": "display_data",
     "data": {
      "image/png": "[encoded data removed]",
      "text/plain": [
       "<Figure size 432x288 with 1 Axes>"
      ]
     },
     "metadata": {
      "needs_background": "light"
     }
    }
   ],
   "metadata": {}
  },
  {
   "cell_type": "markdown",
   "source": [
    "## Exercise 5.B.\n",
    "### Which of the 5 biggest cities has the highest percentage of 'Never Married' in 2020?\n"
   ],
   "metadata": {}
  },
  {
   "cell_type": "code",
   "execution_count": 31,
   "source": [
    "%pylab inline \n",
    "import pandas as pd\n",
    "import matplotlib.pyplot as plt\n",
    "\n",
    "# Load data\n",
    "df2020_5_2 = pd.read_csv('https://api.statbank.dk/v1/data/FOLK1A/CSV?delimiter=Semicolon&OMR%C3%85DE=*&K%C3%98N=TOT&ALDER=IALT&CIVILSTAND=*&Tid=2020K4', sep=';')\n",
    "# Subset based on City_only and totals\n",
    "df2020_city_totals = df2020_5_2.loc[(df2020_5_2['OMRÅDE']!='Hele landet') & (~df2020_5_2['OMRÅDE'].str.contains('Region')) & (df2020_5_2['CIVILSTAND'] == 'I alt')]\n",
    "# Subset City_only totals sorted with top5 biggest cities\n",
    "df2020_city_totals_top5_sorted = df2020_city_totals.sort_values('INDHOLD', ascending=False).iloc[:5,:]\n",
    "\n",
    "city_series_sliced = list(df2020_city_totals_top5_sorted.loc[:, 'OMRÅDE'])\n",
    "\n",
    "def calculate_percentage_never_married(cities:list):\n",
    "    city_ugift_percent = {}\n",
    "    for n in cities:  \n",
    "        x = \"'%s'\" % n\n",
    "        df2020_top5_cities_ugift_totals = df2020_5_2.loc[(df2020_5_2['OMRÅDE'] == n) & (df2020_5_2['CIVILSTAND'] == 'Ugift')]\n",
    "        df2020_top5_cities_totals = df2020_5_2.loc[(df2020_5_2['OMRÅDE'] == n) & (df2020_5_2['CIVILSTAND'] == 'I alt')] \n",
    "        sum_ugift = df2020_top5_cities_ugift_totals.iloc[0, 5]\n",
    "        sum_total = df2020_top5_cities_totals.iloc[0, 5]\n",
    "        percent_never_married = math.floor((sum_ugift/sum_total)*100)\n",
    "        city_ugift_percent.setdefault(n, percent_never_married)       \n",
    "        plt.plot(list(city_ugift_percent.keys()), list(city_ugift_percent.values())) \n",
    "    return city_ugift_percent\n",
    "calculate_percentage_never_married(city_series_sliced)"
   ],
   "outputs": [
    {
     "output_type": "stream",
     "name": "stdout",
     "text": [
      "Populating the interactive namespace from numpy and matplotlib\n"
     ]
    },
    {
     "output_type": "execute_result",
     "data": {
      "text/plain": [
       "{'København': 65, 'Aarhus': 59, 'Aalborg': 54, 'Odense': 55, 'Vejle': 47}"
      ]
     },
     "metadata": {},
     "execution_count": 31
    },
    {
     "output_type": "display_data",
     "data": {
      "image/png": "[encoded data removed]",
      "text/plain": [
       "<Figure size 432x288 with 1 Axes>"
      ]
     },
     "metadata": {
      "needs_background": "light"
     }
    }
   ],
   "metadata": {}
  },
  {
   "cell_type": "markdown",
   "source": [
    "## Exercise 5.C.\n",
    "### Show a bar chart of changes in marrital status in Copenhagen from 2008 till now\n"
   ],
   "metadata": {}
  },
  {
   "cell_type": "code",
   "execution_count": 53,
   "source": [
    "dftest = pd.DataFrame(np.random.rand(3, 3),\n",
    "     index=['Ugift', 'Gift', 'Fraskilt'],\n",
    "     columns=pd.Index(['2008', '2009', '2020'], name='dftest'))\n",
    "dftest.plot.bar()\n",
    "dftest"
   ],
   "outputs": [
    {
     "output_type": "execute_result",
     "data": {
      "text/html": [
       "<div>\n",
       "<style scoped>\n",
       "    .dataframe tbody tr th:only-of-type {\n",
       "        vertical-align: middle;\n",
       "    }\n",
       "\n",
       "    .dataframe tbody tr th {\n",
       "        vertical-align: top;\n",
       "    }\n",
       "\n",
       "    .dataframe thead th {\n",
       "        text-align: right;\n",
       "    }\n",
       "</style>\n",
       "<table border=\"1\" class=\"dataframe\">\n",
       "  <thead>\n",
       "    <tr style=\"text-align: right;\">\n",
       "      <th>dftest</th>\n",
       "      <th>2008</th>\n",
       "      <th>2009</th>\n",
       "      <th>2020</th>\n",
       "    </tr>\n",
       "  </thead>\n",
       "  <tbody>\n",
       "    <tr>\n",
       "      <th>Ugift</th>\n",
       "      <td>0.291836</td>\n",
       "      <td>0.368426</td>\n",
       "      <td>0.550469</td>\n",
       "    </tr>\n",
       "    <tr>\n",
       "      <th>Gift</th>\n",
       "      <td>0.783936</td>\n",
       "      <td>0.746300</td>\n",
       "      <td>0.806110</td>\n",
       "    </tr>\n",
       "    <tr>\n",
       "      <th>Fraskilt</th>\n",
       "      <td>0.948655</td>\n",
       "      <td>0.308840</td>\n",
       "      <td>0.495198</td>\n",
       "    </tr>\n",
       "  </tbody>\n",
       "</table>\n",
       "</div>"
      ],
      "text/plain": [
       "dftest        2008      2009      2020\n",
       "Ugift     0.291836  0.368426  0.550469\n",
       "Gift      0.783936  0.746300  0.806110\n",
       "Fraskilt  0.948655  0.308840  0.495198"
      ]
     },
     "metadata": {},
     "execution_count": 53
    },
    {
     "output_type": "display_data",
     "data": {
      "image/png": "[encoded data removed]",
      "text/plain": [
       "<Figure size 432x288 with 1 Axes>"
      ]
     },
     "metadata": {
      "needs_background": "light"
     }
    }
   ],
   "metadata": {}
  },
  {
   "cell_type": "code",
   "execution_count": 49,
   "source": [
    "df2008_2020 = pd.read_csv('https://api.statbank.dk/v1/data/FOLK1A/CSV?delimiter=Semicolon&OMR%C3%85DE=101&K%C3%98N=TOT&ALDER=IALT&CIVILSTAND=F%2CE%2CG%2CU&Tid=*', sep=';')\n",
    "df2008_2020.head()\n",
    "print(df2008_2020)\n"
   ],
   "outputs": [
    {
     "output_type": "stream",
     "name": "stdout",
     "text": [
      "        OMRÅDE    KØN  ALDER CIVILSTAND     TID  INDHOLD\n",
      "0    København  I alt  I alt   Fraskilt  2008K1    50089\n",
      "1    København  I alt  I alt   Fraskilt  2008K2    50160\n",
      "2    København  I alt  I alt   Fraskilt  2008K3    50024\n",
      "3    København  I alt  I alt   Fraskilt  2008K4    49836\n",
      "4    København  I alt  I alt   Fraskilt  2009K1    49853\n",
      "..         ...    ...    ...        ...     ...      ...\n",
      "215  København  I alt  I alt      Ugift  2020K3   414218\n",
      "216  København  I alt  I alt      Ugift  2020K4   417782\n",
      "217  København  I alt  I alt      Ugift  2021K1   418133\n",
      "218  København  I alt  I alt      Ugift  2021K2   419742\n",
      "219  København  I alt  I alt      Ugift  2021K3   419966\n",
      "\n",
      "[220 rows x 6 columns]\n"
     ]
    }
   ],
   "metadata": {}
  },
  {
   "cell_type": "code",
   "execution_count": 83,
   "source": [
    "dftest = pd.DataFrame(np.random.rand(3, 3),\n",
    "     index=['Ugift', 'Gift', 'Fraskilt'],\n",
    "     columns=pd.Index(['2008', '2009', '2020'], name='dftest'))\n",
    "dftest.plot.bar()\n",
    "dftest"
   ],
   "outputs": [
    {
     "output_type": "execute_result",
     "data": {
      "text/html": [
       "<div>\n",
       "<style scoped>\n",
       "    .dataframe tbody tr th:only-of-type {\n",
       "        vertical-align: middle;\n",
       "    }\n",
       "\n",
       "    .dataframe tbody tr th {\n",
       "        vertical-align: top;\n",
       "    }\n",
       "\n",
       "    .dataframe thead th {\n",
       "        text-align: right;\n",
       "    }\n",
       "</style>\n",
       "<table border=\"1\" class=\"dataframe\">\n",
       "  <thead>\n",
       "    <tr style=\"text-align: right;\">\n",
       "      <th>dftest</th>\n",
       "      <th>2008</th>\n",
       "      <th>2009</th>\n",
       "      <th>2020</th>\n",
       "    </tr>\n",
       "  </thead>\n",
       "  <tbody>\n",
       "    <tr>\n",
       "      <th>Ugift</th>\n",
       "      <td>0.172995</td>\n",
       "      <td>0.404663</td>\n",
       "      <td>0.802846</td>\n",
       "    </tr>\n",
       "    <tr>\n",
       "      <th>Gift</th>\n",
       "      <td>0.020769</td>\n",
       "      <td>0.490111</td>\n",
       "      <td>0.728343</td>\n",
       "    </tr>\n",
       "    <tr>\n",
       "      <th>Fraskilt</th>\n",
       "      <td>0.352347</td>\n",
       "      <td>0.118204</td>\n",
       "      <td>0.197836</td>\n",
       "    </tr>\n",
       "  </tbody>\n",
       "</table>\n",
       "</div>"
      ],
      "text/plain": [
       "dftest        2008      2009      2020\n",
       "Ugift     0.172995  0.404663  0.802846\n",
       "Gift      0.020769  0.490111  0.728343\n",
       "Fraskilt  0.352347  0.118204  0.197836"
      ]
     },
     "metadata": {},
     "execution_count": 83
    },
    {
     "output_type": "display_data",
     "data": {
      "image/png": "[encoded data removed]",
      "text/plain": [
       "<Figure size 432x288 with 1 Axes>"
      ]
     },
     "metadata": {
      "needs_background": "light"
     }
    }
   ],
   "metadata": {}
  },
  {
   "cell_type": "code",
   "execution_count": 103,
   "source": [
    "df2008_2020_slice = df2008_2020.iloc[:,3:]\n",
    "indexed = df2008_2020_slice.set_index('CIVILSTAND')\n",
    "indexed.head()\n",
    "#time = list(indexed['TID'])\n",
    "\n"
   ],
   "outputs": [
    {
     "output_type": "execute_result",
     "data": {
      "text/html": [
       "<div>\n",
       "<style scoped>\n",
       "    .dataframe tbody tr th:only-of-type {\n",
       "        vertical-align: middle;\n",
       "    }\n",
       "\n",
       "    .dataframe tbody tr th {\n",
       "        vertical-align: top;\n",
       "    }\n",
       "\n",
       "    .dataframe thead th {\n",
       "        text-align: right;\n",
       "    }\n",
       "</style>\n",
       "<table border=\"1\" class=\"dataframe\">\n",
       "  <thead>\n",
       "    <tr style=\"text-align: right;\">\n",
       "      <th></th>\n",
       "      <th>TID</th>\n",
       "      <th>INDHOLD</th>\n",
       "    </tr>\n",
       "    <tr>\n",
       "      <th>CIVILSTAND</th>\n",
       "      <th></th>\n",
       "      <th></th>\n",
       "    </tr>\n",
       "  </thead>\n",
       "  <tbody>\n",
       "    <tr>\n",
       "      <th>Fraskilt</th>\n",
       "      <td>2008K1</td>\n",
       "      <td>50089</td>\n",
       "    </tr>\n",
       "    <tr>\n",
       "      <th>Fraskilt</th>\n",
       "      <td>2008K2</td>\n",
       "      <td>50160</td>\n",
       "    </tr>\n",
       "    <tr>\n",
       "      <th>Fraskilt</th>\n",
       "      <td>2008K3</td>\n",
       "      <td>50024</td>\n",
       "    </tr>\n",
       "    <tr>\n",
       "      <th>Fraskilt</th>\n",
       "      <td>2008K4</td>\n",
       "      <td>49836</td>\n",
       "    </tr>\n",
       "    <tr>\n",
       "      <th>Fraskilt</th>\n",
       "      <td>2009K1</td>\n",
       "      <td>49853</td>\n",
       "    </tr>\n",
       "  </tbody>\n",
       "</table>\n",
       "</div>"
      ],
      "text/plain": [
       "               TID  INDHOLD\n",
       "CIVILSTAND                 \n",
       "Fraskilt    2008K1    50089\n",
       "Fraskilt    2008K2    50160\n",
       "Fraskilt    2008K3    50024\n",
       "Fraskilt    2008K4    49836\n",
       "Fraskilt    2009K1    49853"
      ]
     },
     "metadata": {},
     "execution_count": 103
    }
   ],
   "metadata": {}
  }
 ],
 "metadata": {
  "interpreter": {
   "hash": "98b0a9b7b4eaaa670588a142fd0a9b87eaafe866f1db4228be72b4211d12040f"
  },
  "kernelspec": {
   "name": "python3",
   "display_name": "Python 3.7.6 64-bit ('base': conda)"
  },
  "language_info": {
   "codemirror_mode": {
    "name": "ipython",
    "version": 3
   },
   "file_extension": ".py",
   "mimetype": "text/x-python",
   "name": "python",
   "nbconvert_exporter": "python",
   "pygments_lexer": "ipython3",
   "version": "3.7.6"
  }
 },
 "nbformat": 4,
 "nbformat_minor": 4
}