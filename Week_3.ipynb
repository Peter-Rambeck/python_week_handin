{
 "cells": [
  {
   "cell_type": "markdown",
   "source": [
    "# Week 3 Hand-in"
   ],
   "metadata": {}
  },
  {
   "cell_type": "markdown",
   "source": [
    "## Exercise 1"
   ],
   "metadata": {}
  },
  {
   "cell_type": "code",
   "execution_count": 76,
   "source": [
    "# 1. Create 3 classes: Student, DataSheet and Course\n",
    "# 2. A student has a data_sheet and a data_sheet has multiple courses in particular order\n",
    "# 3. Each course has name, classroom, teacher, ETCS and optional grade if course is taken.\n",
    "# 4. In Student create init() so that a Student can be initiated with name, gender, data_sheet and image_url\n",
    "# 5. In DataSheet create a method to get_grades_as_list()\n",
    "# 6. In student create a method: get_avg_grade()\n",
    "\n",
    "class Student():\n",
    "\n",
    "    def __init__(self, name, gender, data_sheet, img_url):\n",
    "        self.name = name\n",
    "        self.gender = gender\n",
    "        self.data_sheet = data_sheet\n",
    "        self.ing_url = img_url\n",
    "\n",
    "    def get_avg_grade(self):\n",
    "        sum = 0\n",
    "        for i in self.data_sheet.get_grades_as_list():\n",
    "            sum = sum + i\n",
    "        avg = sum/len(self.data_sheet.get_grades_as_list())\n",
    "        return avg\n",
    "    \n",
    "    def __repr__(self):\n",
    "        return f'Student (Student_name: %r, Gender: %r, %r, Image: %r)' % (self.name, self.gender, self.data_sheet, self.ing_url)\n",
    "\n",
    "\n",
    "class DataSheet():\n",
    "\n",
    "    def __init__(self, courses = []):\n",
    "        self.courses = courses\n",
    "        \n",
    "    def get_grades_as_list(self):\n",
    "        grades = []\n",
    "        for i in self.courses:\n",
    "            grades.append(i.grade)\n",
    "        return grades\n",
    " \n",
    "    def __repr__(self):\n",
    "        return 'Courses (%r)' % (self.courses)\n",
    "    \n",
    "    \n",
    "class Course():\n",
    "    def __init__(self, name: str, classroom: int, teacher: str, ETCS: int, grade: int):\n",
    "        self.name = name\n",
    "        self.classroom = classroom\n",
    "        self.teacher = teacher\n",
    "        self.ETCS = ETCS\n",
    "        self.grade = grade\n",
    "    \n",
    "    def get_grade(self):\n",
    "        return self.grade\n",
    "\n",
    "    def __repr__(self):\n",
    "        return '(Course: %r, Classroom: %r, Teacher: %r, ETCS: %r, Grade: %r)' % (self.name, self.classroom, self.teacher, self.ETCS, self.grade)\n",
    "\n",
    "    def __str__(self):\n",
    "        return '{name} in {classroom} by {teacher} ETCS {ETCS} Grade {grade}'.format(\n",
    "            name=self.name, classroom=self.classroom, teacher=self.teacher, ETCS=self.ETCS, grade=self.grade)"
   ],
   "outputs": [],
   "metadata": {}
  },
  {
   "cell_type": "code",
   "execution_count": 77,
   "source": [
    "# 7. Create a function that can generate n number of students with random: name, gender, courses (from a fixed list of course names), grades, img_url\n",
    "## A. Let the function write the result to a csv file with format stud_name, course_name, teacher, ,gender, ects, classroom, grade, img_url\n",
    "\n",
    "import random \n",
    "import csv\n",
    "# fields: name :str, gender :str, img_uml, courses=[], grades=[]\n",
    "def auto_generate_students(n: int):\n",
    "\n",
    "    student_list = []\n",
    "    student_data = {}\n",
    "\n",
    "\n",
    "    for i in range(n):\n",
    "        name = 'Hulk'\n",
    "        gender = 'Thing'\n",
    "        img_url = 'test@test'\n",
    "        \n",
    "        data_sheet = auto_generate_data_sheet()    \n",
    "    \n",
    "    \n",
    "        random_student = Student(name=name, gender=gender, data_sheet=data_sheet, img_url=img_url)\n",
    "        grades = random_student.data_sheet.get_grades_as_list()\n",
    "        student_list.append(random_student)\n",
    "        student_list.append(grades)\n",
    "\n",
    "        student_data.update({'student_name' :random_student.name, 'gender': random_student.gender, 'Avg_grade': random_student.get_avg_grade()})\n",
    "    \n",
    "     \n",
    "    with open('tmp/auto_generate_students.csv', 'w') as file:\n",
    "        for key, value in student_data.items(): \n",
    "            file.write('%s : %s\\n' % (key, value))\n",
    "        \n",
    "    # return student_list\n",
    "\n",
    "# helper to auto_generate_data_sheet -> auto_generate_students\n",
    "def auto_generate_courses():\n",
    "    courses = []\n",
    "    course1 = Course('Robots', 101, 'Teacher1', 100, 9)\n",
    "    course2 = Course('Robot', 102, 'Teacher2', 10, 10)\n",
    "    course3 = Course('Python', 103, 'Teacher3', 10, 12)\n",
    "    my_course_list = [course1, course2, course3]\n",
    "    for i in range(2):\n",
    "        courses.append(random.choice(my_course_list))\n",
    "    return courses\n",
    "\n",
    "# helper to auto_generate_students\n",
    "def auto_generate_data_sheet():\n",
    "    data_sheet = DataSheet(auto_generate_courses())\n",
    "    return data_sheet\n",
    "\n",
    "auto_generate_students(3)"
   ],
   "outputs": [],
   "metadata": {}
  },
  {
   "cell_type": "code",
   "execution_count": 78,
   "source": [
    "import random\n",
    "import csv\n",
    "# 1. Create 3 classes: Student, DataSheet and Course\n",
    "\n",
    "\n",
    "\n",
    "class StudentWithGrades(Student):\n",
    "    def __init__(self, name, gender, data_sheet, grades, img_url):\n",
    "        super().__init__(name, gender, data_sheet, img_url)\n",
    "        self.grades = grades\n",
    "\n"
   ],
   "outputs": [],
   "metadata": {}
  },
  {
   "cell_type": "code",
   "execution_count": 79,
   "source": [
    "def read_student_data(filename):\n",
    "    with open(filename, 'r') as file:\n",
    "        lst = []\n",
    "        reader = csv.reader(file, delimiter = '\\n')\n",
    "        data_head = next(reader)\n",
    "        lst.append(data_head)  \n",
    "        for row in reader:     \n",
    "            lst.append(row)\n",
    "    print(lst)\n",
    "\n",
    "read_student_data('tmp/auto_generate_students.csv')\n",
    "\n",
    "\n"
   ],
   "outputs": [
    {
     "output_type": "stream",
     "name": "stdout",
     "text": [
      "[['student_name : Hulk'], ['gender : Thing'], ['Avg_grade : 11.0']]\n"
     ]
    }
   ],
   "metadata": {}
  }
 ],
 "metadata": {
  "interpreter": {
   "hash": "98b0a9b7b4eaaa670588a142fd0a9b87eaafe866f1db4228be72b4211d12040f"
  },
  "kernelspec": {
   "name": "python3",
   "display_name": "Python 3.7.6 64-bit ('base': conda)"
  },
  "language_info": {
   "codemirror_mode": {
    "name": "ipython",
    "version": 3
   },
   "file_extension": ".py",
   "mimetype": "text/x-python",
   "name": "python",
   "nbconvert_exporter": "python",
   "pygments_lexer": "ipython3",
   "version": "3.7.6"
  }
 },
 "nbformat": 4,
 "nbformat_minor": 4
}