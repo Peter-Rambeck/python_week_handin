{
 "cells": [
  {
   "cell_type": "markdown",
   "source": [
    "# Week 3 Hand-in"
   ],
   "metadata": {}
  },
  {
   "cell_type": "markdown",
   "source": [
    "## Exercise 1"
   ],
   "metadata": {}
  },
  {
   "cell_type": "code",
   "execution_count": 34,
   "source": [
    "# 1. Create 3 classes: Student, DataSheet and Course\n",
    "\n",
    "class Student():\n",
    "\n",
    "    def __init__(self, name, gender, data_sheet, img_url):\n",
    "        self.name = name\n",
    "        self.gender = gender\n",
    "        self.data_sheet = data_sheet\n",
    "        self.ing_url = img_url\n",
    "\n",
    "    def get_avg_grade(grades):\n",
    "        avg_grades = grades.sum/len(grades)\n",
    "        return avg_grades\n",
    "    \n",
    "    def __repr__(self):\n",
    "        return 'Student (%r, %r, %r, %r)' % (self.name, self.gender, self.data_sheet, self.ing_url)\n",
    "\n",
    "\n",
    "class DataSheet():\n",
    "\n",
    "    def __init__(self, courses):\n",
    "        self.courses = courses = []\n",
    "        for course in courses:\n",
    "            courses.append(course)\n",
    "        return courses\n",
    "\n",
    "    def get_grades_as_list():\n",
    "        grade = Course.get_grade\n",
    "        grades = []\n",
    "        grades.append(grade)\n",
    "        return grades\n",
    "    \n",
    "    def __repr__(self):\n",
    "        return 'DataSheet (%r)' % (self.courses)\n",
    "    \n",
    "    \n",
    "class Course():\n",
    "    def __init__(self, name: str, classroom: int, teacher: str, ETCS: int, grade: int):\n",
    "        self.name = name\n",
    "        self.classroom = classroom\n",
    "        self.teacher = teacher\n",
    "        self.ETCS = ETCS\n",
    "        self.grade = grade\n",
    "    \n",
    "    def get_grade(self):\n",
    "        return self.grade\n",
    "\n",
    "    def __repr__(self):\n",
    "        return 'Course (%r, %r, %r, %r, %r)' % (self.name, self.classroom, self.teacher, self.ETCS, self.grade)\n",
    "\n",
    "\n",
    "# def generate_students(name :str, gender :str, img_uml, courses=[], grades=[]):\n",
    "\n",
    "\n",
    "def course():\n",
    "    course1 = Course('Robots', 101, 'Geo', 100, 12)\n",
    "    course2 = Course('Robot', 10, 'Ge', 10, 10)\n",
    "    print(course1)\n",
    "course()\n",
    "\n",
    "def datasheet():\n",
    "    datasheet1 = DataSheet(course)\n",
    "    print(datasheet1)\n",
    "datasheet()\n"
   ],
   "outputs": [
    {
     "output_type": "stream",
     "name": "stdout",
     "text": [
      "Course ('Robots', 101, 'Geo', 100, 12)\n"
     ]
    },
    {
     "output_type": "error",
     "ename": "TypeError",
     "evalue": "__init__() should return None, not 'list'",
     "traceback": [
      "\u001b[0;31m---------------------------------------------------------------------------\u001b[0m",
      "\u001b[0;31mTypeError\u001b[0m                                 Traceback (most recent call last)",
      "\u001b[0;32m<ipython-input-34-faf1015bf0e0>\u001b[0m in \u001b[0;36m<module>\u001b[0;34m\u001b[0m\n\u001b[1;32m     61\u001b[0m     \u001b[0mdatasheet1\u001b[0m \u001b[0;34m=\u001b[0m \u001b[0mDataSheet\u001b[0m\u001b[0;34m(\u001b[0m\u001b[0mcourse\u001b[0m\u001b[0;34m)\u001b[0m\u001b[0;34m\u001b[0m\u001b[0;34m\u001b[0m\u001b[0m\n\u001b[1;32m     62\u001b[0m     \u001b[0mprint\u001b[0m\u001b[0;34m(\u001b[0m\u001b[0mdatasheet1\u001b[0m\u001b[0;34m)\u001b[0m\u001b[0;34m\u001b[0m\u001b[0;34m\u001b[0m\u001b[0m\n\u001b[0;32m---> 63\u001b[0;31m \u001b[0mdatasheet\u001b[0m\u001b[0;34m(\u001b[0m\u001b[0;34m)\u001b[0m\u001b[0;34m\u001b[0m\u001b[0;34m\u001b[0m\u001b[0m\n\u001b[0m",
      "\u001b[0;32m<ipython-input-34-faf1015bf0e0>\u001b[0m in \u001b[0;36mdatasheet\u001b[0;34m()\u001b[0m\n\u001b[1;32m     59\u001b[0m \u001b[0;34m\u001b[0m\u001b[0m\n\u001b[1;32m     60\u001b[0m \u001b[0;32mdef\u001b[0m \u001b[0mdatasheet\u001b[0m\u001b[0;34m(\u001b[0m\u001b[0;34m)\u001b[0m\u001b[0;34m:\u001b[0m\u001b[0;34m\u001b[0m\u001b[0;34m\u001b[0m\u001b[0m\n\u001b[0;32m---> 61\u001b[0;31m     \u001b[0mdatasheet1\u001b[0m \u001b[0;34m=\u001b[0m \u001b[0mDataSheet\u001b[0m\u001b[0;34m(\u001b[0m\u001b[0mcourse\u001b[0m\u001b[0;34m)\u001b[0m\u001b[0;34m\u001b[0m\u001b[0;34m\u001b[0m\u001b[0m\n\u001b[0m\u001b[1;32m     62\u001b[0m     \u001b[0mprint\u001b[0m\u001b[0;34m(\u001b[0m\u001b[0mdatasheet1\u001b[0m\u001b[0;34m)\u001b[0m\u001b[0;34m\u001b[0m\u001b[0;34m\u001b[0m\u001b[0m\n\u001b[1;32m     63\u001b[0m \u001b[0mdatasheet\u001b[0m\u001b[0;34m(\u001b[0m\u001b[0;34m)\u001b[0m\u001b[0;34m\u001b[0m\u001b[0;34m\u001b[0m\u001b[0m\n",
      "\u001b[0;31mTypeError\u001b[0m: __init__() should return None, not 'list'"
     ]
    }
   ],
   "metadata": {}
  }
 ],
 "metadata": {
  "interpreter": {
   "hash": "98b0a9b7b4eaaa670588a142fd0a9b87eaafe866f1db4228be72b4211d12040f"
  },
  "kernelspec": {
   "name": "python3",
   "display_name": "Python 3.7.6 64-bit ('base': conda)"
  },
  "language_info": {
   "codemirror_mode": {
    "name": "ipython",
    "version": 3
   },
   "file_extension": ".py",
   "mimetype": "text/x-python",
   "name": "python",
   "nbconvert_exporter": "python",
   "pygments_lexer": "ipython3",
   "version": "3.7.6"
  }
 },
 "nbformat": 4,
 "nbformat_minor": 4
}