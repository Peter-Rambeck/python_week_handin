{
 "cells": [
  {
   "cell_type": "markdown",
   "source": [
    "# Week 3 Hand-in"
   ],
   "metadata": {}
  },
  {
   "cell_type": "markdown",
   "source": [
    "## Exercise 1"
   ],
   "metadata": {}
  },
  {
   "cell_type": "code",
   "execution_count": 27,
   "source": [
    "import random\n",
    "# 1. Create 3 classes: Student, DataSheet and Course\n",
    "\n",
    "class Student():\n",
    "\n",
    "    def __init__(self, name, gender, data_sheet, img_url):\n",
    "        self.name = name\n",
    "        self.gender = gender\n",
    "        self.data_sheet = data_sheet\n",
    "        self.ing_url = img_url\n",
    "\n",
    "    def get_avg_grade(self):\n",
    "        sum = 0\n",
    "        for i in self.data_sheet.get_grades_as_list():\n",
    "            sum = sum + i\n",
    "        avg = sum/len(self.data_sheet.get_grades_as_list())\n",
    "        return avg\n",
    "    \n",
    "    def __repr__(self):\n",
    "        return 'Student (%r, %r, %r, %r)' % (self.name, self.gender, self.data_sheet, self.ing_url)\n",
    "\n",
    "\n",
    "class DataSheet():\n",
    "\n",
    "    def __init__(self, courses = []):\n",
    "        self.courses = courses\n",
    "        \n",
    "    def get_grades_as_list(self):\n",
    "        grades = []\n",
    "        for i in self.courses:\n",
    "            grades.append(i.grade)\n",
    "        return grades\n",
    " \n",
    "    def __repr__(self):\n",
    "        return 'DataSheet (%r)' % (self.courses)\n",
    "    \n",
    "    \n",
    "class Course():\n",
    "    def __init__(self, name: str, classroom: int, teacher: str, ETCS: int, grade: int):\n",
    "        self.name = name\n",
    "        self.classroom = classroom\n",
    "        self.teacher = teacher\n",
    "        self.ETCS = ETCS\n",
    "        self.grade = grade\n",
    "    \n",
    "    def get_grade(self):\n",
    "        return self.grade\n",
    "\n",
    "    def __repr__(self):\n",
    "        return 'Course (%r, %r, %r, %r, %r)' % (self.name, self.classroom, self.teacher, self.ETCS, self.grade)\n",
    "\n",
    "class StudentWithGrades(Student):\n",
    "    def __init__(self, name, gender, data_sheet, grades, img_url):\n",
    "        super().__init__(name, gender, data_sheet, img_url)\n",
    "        self.grades = grades\n",
    "\n",
    "\n",
    "        \n",
    "\n",
    "# helper to auto_generate_data_sheet -> auto_generate_students\n",
    "def auto_generate_courses():\n",
    "    courses = []\n",
    "    course1 = Course('Robots', 101, 'Teacher1', 100, 9)\n",
    "    course2 = Course('Robot', 102, 'Teacher2', 10, 10)\n",
    "    course3 = Course('Python', 103, 'Teacher3', 10, 12)\n",
    "    my_course_list = [course1, course2, course3]\n",
    "    for i in range(2):\n",
    "        courses.append(random.choice(my_course_list))\n",
    "        \n",
    "    return courses\n",
    "\n",
    "# helper to auto_generate_students\n",
    "def auto_generate_data_sheet():\n",
    "    data_sheet = DataSheet(auto_generate_courses())\n",
    "    return data_sheet\n",
    "\n",
    "# fields: name :str, gender :str, img_uml, courses=[], grades=[]\n",
    "#\n",
    "def auto_generate_students(n: int):\n",
    "    name = 'Hulk'\n",
    "    gender = 'Thing'\n",
    "    img_url = 'test@test'\n",
    "   \n",
    "    for i in range(n):\n",
    "        data_sheet = auto_generate_data_sheet()    \n",
    "        random_student = Student(name=name, gender=gender, data_sheet=data_sheet, img_url=img_url)\n",
    "        grades = random_student.data_sheet.get_grades_as_list()\n",
    "        print('Student #',i + 1, random_student, 'Grades ', grades)\n",
    "\n",
    "auto_generate_students(3)\n",
    "\n",
    "\n"
   ],
   "outputs": [
    {
     "output_type": "stream",
     "name": "stdout",
     "text": [
      "Student # 1 Student ('Hulk', 'Thing', DataSheet ([Course ('Python', 103, 'Teacher3', 10, 12), Course ('Python', 103, 'Teacher3', 10, 12)]), 'test@test') Grades  [12, 12]\n",
      "Student # 2 Student ('Hulk', 'Thing', DataSheet ([Course ('Robot', 102, 'Teacher2', 10, 10), Course ('Robots', 101, 'Teacher1', 100, 9)]), 'test@test') Grades  [10, 9]\n",
      "Student # 3 Student ('Hulk', 'Thing', DataSheet ([Course ('Python', 103, 'Teacher3', 10, 12), Course ('Robots', 101, 'Teacher1', 100, 9)]), 'test@test') Grades  [12, 9]\n"
     ]
    }
   ],
   "metadata": {}
  },
  {
   "cell_type": "code",
   "execution_count": null,
   "source": [],
   "outputs": [],
   "metadata": {}
  }
 ],
 "metadata": {
  "interpreter": {
   "hash": "98b0a9b7b4eaaa670588a142fd0a9b87eaafe866f1db4228be72b4211d12040f"
  },
  "kernelspec": {
   "name": "python3",
   "display_name": "Python 3.7.6 64-bit"
  },
  "language_info": {
   "codemirror_mode": {
    "name": "ipython",
    "version": 3
   },
   "file_extension": ".py",
   "mimetype": "text/x-python",
   "name": "python",
   "nbconvert_exporter": "python",
   "pygments_lexer": "ipython3",
   "version": "3.7.6"
  }
 },
 "nbformat": 4,
 "nbformat_minor": 4
}