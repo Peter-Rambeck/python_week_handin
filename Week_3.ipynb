{
 "cells": [
  {
   "cell_type": "markdown",
   "source": [
    "# Week 3 Hand-in"
   ],
   "metadata": {}
  },
  {
   "cell_type": "markdown",
   "source": [
    "## Exercise 1"
   ],
   "metadata": {}
  },
  {
   "cell_type": "code",
   "execution_count": null,
   "source": [
    "# 1. Create 3 classes: Student, DataSheet and Course\n",
    "\n",
    "class Student():\n",
    "\n",
    "    def __init__(self, title, author, chapters=[]):\n",
    "        \"\"\"Initialize title, the author, and the chapters.\"\"\"\n",
    "        self.title = title \n",
    "        self.author = author\n",
    "        self.chapters = chapters   "
   ],
   "outputs": [],
   "metadata": {}
  }
 ],
 "metadata": {
  "interpreter": {
   "hash": "98b0a9b7b4eaaa670588a142fd0a9b87eaafe866f1db4228be72b4211d12040f"
  },
  "kernelspec": {
   "name": "python3",
   "display_name": "Python 3.7.6 64-bit"
  },
  "language_info": {
   "codemirror_mode": {
    "name": "ipython",
    "version": 3
   },
   "file_extension": ".py",
   "mimetype": "text/x-python",
   "name": "python",
   "nbconvert_exporter": "python",
   "pygments_lexer": "ipython3",
   "version": "3.7.6"
  }
 },
 "nbformat": 4,
 "nbformat_minor": 4
}