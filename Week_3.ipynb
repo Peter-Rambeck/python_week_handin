{
 "cells": [
  {
   "cell_type": "markdown",
   "source": [
    "# Week 3 Hand-in"
   ],
   "metadata": {}
  },
  {
   "cell_type": "markdown",
   "source": [
    "## Exercise 1"
   ],
   "metadata": {}
  },
  {
   "cell_type": "code",
   "execution_count": 65,
   "source": [
    "import random\n",
    "import csv\n",
    "# 1. Create 3 classes: Student, DataSheet and Course\n",
    "\n",
    "class Student():\n",
    "\n",
    "    def __init__(self, name, gender, data_sheet, img_url):\n",
    "        self.name = name\n",
    "        self.gender = gender\n",
    "        self.data_sheet = data_sheet\n",
    "        self.ing_url = img_url\n",
    "\n",
    "    def get_avg_grade(self):\n",
    "        sum = 0\n",
    "        for i in self.data_sheet.get_grades_as_list():\n",
    "            sum = sum + i\n",
    "        avg = sum/len(self.data_sheet.get_grades_as_list())\n",
    "        return avg\n",
    "    \n",
    "    def get_name(self):\n",
    "        return self.name\n",
    "\n",
    "    def __str__(self):\n",
    "        return '{name}'.format(\n",
    "            name=self.get_name)\n",
    "    \n",
    "    def __repr__(self):\n",
    "        return 'Student (Student name: %r, Gender: %r, %r, Image: %r)' % (self.name, self.gender, self.data_sheet, self.ing_url)\n",
    "\n",
    "\n",
    "class DataSheet():\n",
    "\n",
    "    def __init__(self, courses = []):\n",
    "        self.courses = courses\n",
    "        \n",
    "    def get_grades_as_list(self):\n",
    "        grades = []\n",
    "        for i in self.courses:\n",
    "            grades.append(i.grade)\n",
    "        return grades\n",
    " \n",
    "    def __repr__(self):\n",
    "        return 'Courses (%r)' % (self.courses)\n",
    "    \n",
    "    \n",
    "class Course():\n",
    "    def __init__(self, name: str, classroom: int, teacher: str, ETCS: int, grade: int):\n",
    "        self.name = name\n",
    "        self.classroom = classroom\n",
    "        self.teacher = teacher\n",
    "        self.ETCS = ETCS\n",
    "        self.grade = grade\n",
    "    \n",
    "    def get_grade(self):\n",
    "        return self.grade\n",
    "\n",
    "    def __repr__(self):\n",
    "        return '(Course: %r, Classroom: %r, Teacher: %r, ETCS: %r, Grade: %r)' % (self.name, self.classroom, self.teacher, self.ETCS, self.grade)\n",
    "\n",
    "    def __str__(self):\n",
    "        return '{name} in {classroom} by {teacher} ETCS {ETCS} Grade {grade}'.format(\n",
    "            name=self.name, classroom=self.classroom, teacher=self.teacher, ETCS=self.ETCS, grade=self.grade)\n",
    "\n",
    "class StudentWithGrades(Student):\n",
    "    def __init__(self, name, gender, data_sheet, grades, img_url):\n",
    "        super().__init__(name, gender, data_sheet, img_url)\n",
    "        self.grades = grades\n",
    "\n",
    "\n",
    "# helper to auto_generate_data_sheet -> auto_generate_students\n",
    "def auto_generate_courses():\n",
    "    courses = []\n",
    "    course1 = Course('Robots', 101, 'Teacher1', 100, 9)\n",
    "    course2 = Course('Robot', 102, 'Teacher2', 10, 10)\n",
    "    course3 = Course('Python', 103, 'Teacher3', 10, 12)\n",
    "    my_course_list = [course1, course2, course3]\n",
    "    for i in range(2):\n",
    "        courses.append(random.choice(my_course_list))\n",
    "    return courses\n",
    "\n",
    "# helper to auto_generate_students\n",
    "def auto_generate_data_sheet():\n",
    "    data_sheet = DataSheet(auto_generate_courses())\n",
    "    return data_sheet\n",
    "\n",
    "# fields: name :str, gender :str, img_uml, courses=[], grades=[]\n",
    "#\n",
    "def auto_generate_students(n: int):\n",
    "    name = 'Hulk'\n",
    "    gender = 'Thing'\n",
    "    img_url = 'test@test'\n",
    "    student_list = []\n",
    "    for i in range(n):\n",
    "        data_sheet = auto_generate_data_sheet()    \n",
    "        random_student = Student(name=name, gender=gender, data_sheet=data_sheet, img_url=img_url)\n",
    "        grades = random_student.data_sheet.get_grades_as_list()\n",
    "        student_list.append((random_student, grades))\n",
    "        print(Student.get_name)\n",
    "    return student_list\n",
    "\n",
    "def print_students_to_csv(output_file, lst):    \n",
    "    with open(output_file, 'w') as file:\n",
    "        file_write = csv.writer(file, delimiter = '\\n' )\n",
    "        file_write.writerow(lst)\n",
    "print_students_to_csv('tmp/week3_students.csv', auto_generate_students(3))\n"
   ],
   "outputs": [
    {
     "output_type": "stream",
     "name": "stdout",
     "text": [
      "<function Student.get_name at 0x7f07f4a1a5f0>\n",
      "<function Student.get_name at 0x7f07f4a1a5f0>\n",
      "<function Student.get_name at 0x7f07f4a1a5f0>\n"
     ]
    }
   ],
   "metadata": {}
  },
  {
   "cell_type": "code",
   "execution_count": 61,
   "source": [
    "def read_student_data(filename):\n",
    "    with open(filename, 'r') as file:\n",
    "        lst = []\n",
    "        reader = csv.reader(file, delimiter = '\\n')\n",
    "        data_head = next(reader)\n",
    "        lst.append(data_head)  \n",
    "        for row in reader:     \n",
    "            lst.append(row)\n",
    "    # print(*lst)\n",
    "\n",
    "    for student in lst:\n",
    "        print(student(Student.get_name))\n",
    " \n",
    "read_student_data('tmp/week3_students.csv')\n",
    "\n",
    "\n"
   ],
   "outputs": [
    {
     "output_type": "error",
     "ename": "AttributeError",
     "evalue": "type object 'Student' has no attribute 'get_name'",
     "traceback": [
      "\u001b[0;31m---------------------------------------------------------------------------\u001b[0m",
      "\u001b[0;31mAttributeError\u001b[0m                            Traceback (most recent call last)",
      "\u001b[0;32m<ipython-input-61-ce208e716263>\u001b[0m in \u001b[0;36m<module>\u001b[0;34m\u001b[0m\n\u001b[1;32m     12\u001b[0m         \u001b[0mprint\u001b[0m\u001b[0;34m(\u001b[0m\u001b[0mstudent\u001b[0m\u001b[0;34m(\u001b[0m\u001b[0mStudent\u001b[0m\u001b[0;34m.\u001b[0m\u001b[0mget_name\u001b[0m\u001b[0;34m)\u001b[0m\u001b[0;34m)\u001b[0m\u001b[0;34m\u001b[0m\u001b[0;34m\u001b[0m\u001b[0m\n\u001b[1;32m     13\u001b[0m \u001b[0;34m\u001b[0m\u001b[0m\n\u001b[0;32m---> 14\u001b[0;31m \u001b[0mread_student_data\u001b[0m\u001b[0;34m(\u001b[0m\u001b[0;34m'tmp/week3_students.csv'\u001b[0m\u001b[0;34m)\u001b[0m\u001b[0;34m\u001b[0m\u001b[0;34m\u001b[0m\u001b[0m\n\u001b[0m\u001b[1;32m     15\u001b[0m \u001b[0;34m\u001b[0m\u001b[0m\n\u001b[1;32m     16\u001b[0m \u001b[0;34m\u001b[0m\u001b[0m\n",
      "\u001b[0;32m<ipython-input-61-ce208e716263>\u001b[0m in \u001b[0;36mread_student_data\u001b[0;34m(filename)\u001b[0m\n\u001b[1;32m     10\u001b[0m \u001b[0;34m\u001b[0m\u001b[0m\n\u001b[1;32m     11\u001b[0m     \u001b[0;32mfor\u001b[0m \u001b[0mstudent\u001b[0m \u001b[0;32min\u001b[0m \u001b[0mlst\u001b[0m\u001b[0;34m:\u001b[0m\u001b[0;34m\u001b[0m\u001b[0;34m\u001b[0m\u001b[0m\n\u001b[0;32m---> 12\u001b[0;31m         \u001b[0mprint\u001b[0m\u001b[0;34m(\u001b[0m\u001b[0mstudent\u001b[0m\u001b[0;34m(\u001b[0m\u001b[0mStudent\u001b[0m\u001b[0;34m.\u001b[0m\u001b[0mget_name\u001b[0m\u001b[0;34m)\u001b[0m\u001b[0;34m)\u001b[0m\u001b[0;34m\u001b[0m\u001b[0;34m\u001b[0m\u001b[0m\n\u001b[0m\u001b[1;32m     13\u001b[0m \u001b[0;34m\u001b[0m\u001b[0m\n\u001b[1;32m     14\u001b[0m \u001b[0mread_student_data\u001b[0m\u001b[0;34m(\u001b[0m\u001b[0;34m'tmp/week3_students.csv'\u001b[0m\u001b[0;34m)\u001b[0m\u001b[0;34m\u001b[0m\u001b[0;34m\u001b[0m\u001b[0m\n",
      "\u001b[0;31mAttributeError\u001b[0m: type object 'Student' has no attribute 'get_name'"
     ]
    }
   ],
   "metadata": {}
  }
 ],
 "metadata": {
  "interpreter": {
   "hash": "98b0a9b7b4eaaa670588a142fd0a9b87eaafe866f1db4228be72b4211d12040f"
  },
  "kernelspec": {
   "name": "python3",
   "display_name": "Python 3.7.6 64-bit ('base': conda)"
  },
  "language_info": {
   "codemirror_mode": {
    "name": "ipython",
    "version": 3
   },
   "file_extension": ".py",
   "mimetype": "text/x-python",
   "name": "python",
   "nbconvert_exporter": "python",
   "pygments_lexer": "ipython3",
   "version": "3.7.6"
  }
 },
 "nbformat": 4,
 "nbformat_minor": 4
}