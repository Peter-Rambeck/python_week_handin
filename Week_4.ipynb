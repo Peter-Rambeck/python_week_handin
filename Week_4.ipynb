{
 "cells": [
  {
   "cell_type": "markdown",
   "source": [
    "# Week 4 Hand-in"
   ],
   "metadata": {}
  },
  {
   "cell_type": "markdown",
   "source": [
    "## Exercise 1"
   ],
   "metadata": {}
  },
  {
   "cell_type": "code",
   "execution_count": 2,
   "source": [
    "# Class exercise: table\n",
    "\n",
    "import numpy as np\n",
    "\n",
    "a = np.arange(10, 30).reshape(4, 5)\n",
    "print('Table', a)\n",
    "\n",
    "red = a[0, 1:4]\n",
    "print('Red:', red)\n",
    "\n",
    "green = a[0:3, 2]\n",
    "print('Green:', green)\n",
    "\n",
    "light_blue = a[0:5, 1]\n",
    "print('Light_blue:', light_blue)\n",
    "\n",
    "deep_blue = a[0:3:2, 4]\n",
    "print('Deep_blue:', deep_blue)\n",
    "\n",
    "\n"
   ],
   "outputs": [
    {
     "output_type": "stream",
     "name": "stdout",
     "text": [
      "Table [[10 11 12 13 14]\n",
      " [15 16 17 18 19]\n",
      " [20 21 22 23 24]\n",
      " [25 26 27 28 29]]\n",
      "Red: [11 12 13]\n",
      "Green: [12 17 22]\n",
      "Light_blue: [11 16 21 26]\n",
      "Deep_blue: [14 24]\n"
     ]
    }
   ],
   "metadata": {}
  },
  {
   "cell_type": "code",
   "execution_count": 3,
   "source": [
    "# Class exercise Cube\n",
    "\n",
    "import numpy as np\n",
    "a = np.arange(0, 27).reshape((3, 3, 3))\n",
    "print('Cube: ', a, '\\n---')\n",
    "print('1:', a[1, 1, :], '\\n---') \n",
    "print('2:', a[:, 1, 0], '\\n---')\n",
    "print('3:', a[0, :, 2], '\\n---')"
   ],
   "outputs": [
    {
     "output_type": "stream",
     "name": "stdout",
     "text": [
      "Cube:  [[[ 0  1  2]\n",
      "  [ 3  4  5]\n",
      "  [ 6  7  8]]\n",
      "\n",
      " [[ 9 10 11]\n",
      "  [12 13 14]\n",
      "  [15 16 17]]\n",
      "\n",
      " [[18 19 20]\n",
      "  [21 22 23]\n",
      "  [24 25 26]]] \n",
      "---\n",
      "1: [12 13 14] \n",
      "---\n",
      "2: [ 3 12 21] \n",
      "---\n",
      "3: [2 5 8] \n",
      "---\n"
     ]
    }
   ],
   "metadata": {}
  },
  {
   "cell_type": "code",
   "execution_count": 4,
   "source": [
    "# Class exercise masking\n",
    "\n",
    "data = np.arange(1,101).reshape(10, 10)\n",
    "print(data, '\\n----')\n",
    "even = data[data%2 == 0]\n",
    "print('Even numbers', even, '\\n----')\n",
    "ends_6 = np.where(data%10 == 6)\n",
    "\n",
    "print('ends_6', ends_6, '\\n----')\n",
    "print('ends-6',data[ends_6])\n"
   ],
   "outputs": [
    {
     "output_type": "stream",
     "name": "stdout",
     "text": [
      "[[  1   2   3   4   5   6   7   8   9  10]\n",
      " [ 11  12  13  14  15  16  17  18  19  20]\n",
      " [ 21  22  23  24  25  26  27  28  29  30]\n",
      " [ 31  32  33  34  35  36  37  38  39  40]\n",
      " [ 41  42  43  44  45  46  47  48  49  50]\n",
      " [ 51  52  53  54  55  56  57  58  59  60]\n",
      " [ 61  62  63  64  65  66  67  68  69  70]\n",
      " [ 71  72  73  74  75  76  77  78  79  80]\n",
      " [ 81  82  83  84  85  86  87  88  89  90]\n",
      " [ 91  92  93  94  95  96  97  98  99 100]] \n",
      "----\n",
      "Even numbers [  2   4   6   8  10  12  14  16  18  20  22  24  26  28  30  32  34  36\n",
      "  38  40  42  44  46  48  50  52  54  56  58  60  62  64  66  68  70  72\n",
      "  74  76  78  80  82  84  86  88  90  92  94  96  98 100] \n",
      "----\n",
      "ends_6 (array([0, 1, 2, 3, 4, 5, 6, 7, 8, 9]), array([5, 5, 5, 5, 5, 5, 5, 5, 5, 5])) \n",
      "----\n",
      "ends-6 [ 6 16 26 36 46 56 66 76 86 96]\n"
     ]
    }
   ],
   "metadata": {}
  },
  {
   "cell_type": "code",
   "execution_count": 5,
   "source": [
    "%%bash\n",
    "head /home/jovyan/data/befkbhalderstatkode.csv"
   ],
   "outputs": [
    {
     "output_type": "stream",
     "name": "stdout",
     "text": [
      "AAR,BYDEL,ALDER,STATKODE,PERSONER\n",
      "2015,1,0,5100,614\n",
      "2015,1,0,5104,2\n",
      "2015,1,0,5106,1\n",
      "2015,1,0,5110,1\n",
      "2015,1,0,5120,4\n",
      "2015,1,0,5126,1\n",
      "2015,1,0,5130,5\n",
      "2015,1,0,5140,3\n",
      "2015,1,0,5150,5\n"
     ]
    }
   ],
   "metadata": {}
  },
  {
   "cell_type": "code",
   "execution_count": 1,
   "source": [
    "import numpy as np\n",
    "filename = '/home/jovyan/data/befkbhalderstatkode.csv'\n",
    "dd = np.genfromtxt(filename, delimiter=',', dtype=np.uint, skip_header=1)\n",
    "print(type(dd), 'size: ', dd.size)\n",
    "print('First line: ', dd[0])\n",
    "\n"
   ],
   "outputs": [
    {
     "output_type": "stream",
     "name": "stdout",
     "text": [
      "<class 'numpy.ndarray'> size:  2712585\n",
      "First line:  [2015    1    0 5100  614]\n"
     ]
    }
   ],
   "metadata": {}
  },
  {
   "cell_type": "code",
   "execution_count": 7,
   "source": [
    "# 3 Find out how many people lived in each of the 11 areas in 2015\n",
    "\n",
    "mask_2015 = (dd[:, 0] == 2015)\n",
    "area_set = set(dd[:, 1])\n",
    "\n",
    "def sum_of_people_per_neighbourhood(n, mask_2015):\n",
    "    all_people_in_given_n = dd[mask_2015 & (dd[:,1] == n)]\n",
    "    sum_of_people = all_people_in_given_n[:,4].sum() # index 4 is no of 'PERSONER'\n",
    "    return sum_of_people\n",
    "\n",
    "All_per_NH_2015 = np.array([sum_of_people_per_neighbourhood(n, mask_2015) for n in area_set])\n",
    "print('Sum of all ppl per NH in 2015:', '\\n', All_per_NH_2015)\n",
    "\n",
    "\n"
   ],
   "outputs": [
    {
     "output_type": "stream",
     "name": "stdout",
     "text": [
      "Sum of all ppl per NH in 2015: \n",
      " [51937 75113 78802 61623 51727 39537 43908 53604 55205 64967  3872]\n"
     ]
    }
   ],
   "metadata": {}
  },
  {
   "cell_type": "code",
   "execution_count": null,
   "source": [],
   "outputs": [],
   "metadata": {}
  },
  {
   "cell_type": "code",
   "execution_count": 8,
   "source": [
    "# 4 Make a bar plot to show the size of each city area from the smallest to the largest in 2015\n",
    "import matplotlib.pyplot as plt\n",
    "\n",
    "All_per_NH_2015.sort()\n",
    "\n",
    "plt.bar(list(area_set), list(All_per_NH_2015))\n",
    "plt.axis([min(area_set), max(area_set),300,100000])"
   ],
   "outputs": [
    {
     "output_type": "execute_result",
     "data": {
      "text/plain": [
       "(1.0, 99.0, 300.0, 100000.0)"
      ]
     },
     "metadata": {},
     "execution_count": 8
    },
    {
     "output_type": "display_data",
     "data": {
      "image/png": "[encoded data removed]",
      "text/plain": [
       "<Figure size 432x288 with 1 Axes>"
      ]
     },
     "metadata": {
      "needs_background": "light"
     }
    }
   ],
   "metadata": {}
  },
  {
   "cell_type": "code",
   "execution_count": 9,
   "source": [
    "# 5. Create a boolean mask to find out how many people above 65 years lived in Copenhagen in 2015\n",
    "mask_2015 = (dd[:, 0] == 2015)\n",
    "#dd[mask_2015]\n",
    "mask_age_above65 =  (dd[:, 2] > 65)\n",
    "# dd[mask_age_above65]\n",
    "\n",
    "mask_all_above65_cph_2015 = (mask_2015) & (mask_age_above65)\n",
    "# dd[mask_all_above65_cph_2015]\n",
    "print('Total 65+ in 2015:', np.sum(dd[mask_all_above65_cph_2015][:, 4]), 'people')"
   ],
   "outputs": [
    {
     "output_type": "stream",
     "name": "stdout",
     "text": [
      "Total 65+ in 2015: 55750 people\n"
     ]
    }
   ],
   "metadata": {}
  },
  {
   "cell_type": "code",
   "execution_count": 10,
   "source": [
    "country_codes = {0: 'Uoplyst (1)', 5001: 'Uoplyst (2)', 5100: 'Danmark', 5101: 'Grønland', \n",
    "                 5102: 'Udlandet uoplyst', 5103: 'Statsløs', 5104: 'Finland', \n",
    "                 5105: 'Island, ligeret dansk', 5106: 'Island', 5107: 'Liechtenstein', \n",
    "                 5108: 'Luxembourg', 5109: 'Monaco', 5110: 'Norge', 5114: 'Europa uoplyst', \n",
    "                 5115: 'Kongelig', 5120: 'Sverige', 5122: 'Albanien', 5124: 'Andorra', \n",
    "                 5126: 'Belgien', 5128: 'Bulgarien', 5129: 'Tjekkoslovakiet', \n",
    "                 5130: 'Frankrig', 5134: 'Grækenland', 5140: 'Nederlandene', \n",
    "                 5142: 'Irland', 5150: 'Italien', 5151: 'Serbien og Montenegro', \n",
    "                 5152: 'Jugoslavien', 5153: 'Malta', 5154: 'Polen', 5156: 'Portugal', \n",
    "                 5158: 'Rumænien', 5159: 'San Marino', 5160: 'Schweiz', \n",
    "                 5162: 'Sovjetunionen', 5164: 'Spanien', 5170: 'Storbritannien', \n",
    "                 5172: 'Tyrkiet', 5174: 'Ungarn', 5176: 'Vatikanstaten', 5180: 'Tyskland', \n",
    "                 5182: 'Østrig', 5199: 'Europa uoplyst', 5202: 'Algeriet', 5204: 'Angola', \n",
    "                 5207: 'Botswana', 5213: 'Burundi', 5214: 'Etiopien', 5215: 'Comorerne', \n",
    "                 5216: 'Eritrea', 5222: 'Gambia', 5228: 'Ghana', 5230: 'Ækvatorialguinea', \n",
    "                 5231: 'Guinea-Bissau', 5232: 'Guinea', 5233: 'Kap Verde', 5234: 'Kenya', \n",
    "                 5235: 'Lesotho', 5236: 'Liberia', 5238: 'Libyen', 5240: 'Mozambique', \n",
    "                 5242: 'Madagaskar', 5243: 'Mali', 5244: 'Marokko', 5245: 'Mauritius', \n",
    "                 5246: 'Nigeria', 5247: 'Namibia', 5248: 'Marshalløerne', \n",
    "                 5255: 'Sierra Leone', 5258: 'Sudan', 5259: 'Swaziland', 5260: 'Sydsudan', \n",
    "                 5262: 'Sydafrika', 5266: 'Tanzania', 5268: 'Tunesien', 5269: 'Uganda', \n",
    "                 5272: 'Egypten', 5273: 'Tuvalu', 5274: 'Kiribati', 5275: 'Vanuatu', \n",
    "                 5276: 'Centralafrikanske Republik', 5277: 'Cameroun', \n",
    "                 5278: 'Congo, Demokratiske Republik', 5279: 'Congo, Republikken', \n",
    "                 5281: 'Benin', 5282: 'Elfenbenskysten', 5283: 'Gabon', 5284: 'Mauretanien', \n",
    "                 5285: 'Niger', 5287: 'Rwanda', 5288: 'Senegal', 5289: 'Somalia', \n",
    "                 5292: 'Tchad', 5293: 'Togo', 5294: 'Burkina Faso', 5295: 'Zimbabwe', \n",
    "                 5296: 'Zambia', 5297: 'Malawi', 5298: 'Seychellerne', \n",
    "                 5299: 'Afrika uoplyst', 5302: 'Argentina', 5303: 'Bahamas', \n",
    "                 5304: 'Bolivia', 5305: 'Barbados', 5306: 'Brasilien', 5308: 'Guyana', \n",
    "                 5309: 'Antigua og Barbuda', 5310: 'Nauru', \n",
    "                 5311: 'Skt. Vincent og Grenadinerne', 5314: 'Canada', 5316: 'Chile', \n",
    "                 5318: 'Colombia', 5319: 'Syd- og Mellemamerika uoplyst', \n",
    "                 5322: 'Costa Rica', 5324: 'Cuba', 5326: 'Dominikanske Republik', \n",
    "                 5328: 'Ecuador', 5338: 'Guatemala', 5339: 'Grenada', 5342: 'Haiti', \n",
    "                 5344: 'Surinam', 5345: 'Dominica', 5347: 'Skt. Lucia', 5348: 'Honduras', \n",
    "                 5352: 'Jamaica', 5354: 'Mexico', 5356: 'Nicaragua', 5358: 'Panama', \n",
    "                 5364: 'Paraguay', 5366: 'Peru', 5372: 'El Salvador', \n",
    "                 5374: 'Trinidad og Tobago', 5376: 'Uruguay', 5390: 'USA', \n",
    "                 5392: 'Venezuela', 5395: 'Vestindiske Øer', 5397: 'Nordamerika uoplyst', \n",
    "                 5398: 'Syd- og Mellemamerika uoplyst', 5402: 'Yemen', \n",
    "                 5403: 'Forenede Arabiske Emirater', 5404: 'Afghanistan', 5406: 'Bahrain', \n",
    "                 5408: 'Bhutan', 5410: 'Bangladesh', 5412: 'Brunei', 5414: 'Myanmar', \n",
    "                 5416: 'Cambodja', 5418: 'Sri Lanka', 5422: 'Cypern', 5424: 'Taiwan', \n",
    "                 5432: 'Indien', 5434: 'Indonesien', 5435: 'Østtimor', 5436: 'Irak', \n",
    "                 5438: 'Iran', 5442: 'Israel', 5444: 'Japan', 5446: 'Jordan', 5448: 'Kina', \n",
    "                 5452: 'Kuwait', 5454: 'Laos', 5456: 'Libanon', 5457: 'Maldiverne', \n",
    "                 5458: 'Malaysia', 5459: 'Mongoliet', 5462: 'Oman', 5464: 'Nepal', \n",
    "                 5466: 'Nordkorea', 5468: 'Vietnam (1)', 5471: 'Asien uoplyst', \n",
    "                 5472: 'Pakistan', 5474: 'Filippinerne', 5478: 'Saudi-Arabien', \n",
    "                 5482: 'Singapore', 5484: 'Sydkorea', 5486: 'Syrien', \n",
    "                 5487: 'Mellemøsten uoplyst', 5488: 'Vietnam (2)', 5492: 'Thailand', \n",
    "                 5496: 'Qatar', 5499: 'Asien uoplyst', 5502: 'Australien', 5505: 'Tonga', \n",
    "                 5508: 'Fiji', 5514: 'New Zealand', 5522: 'Samoa', 5525: 'Djibouti', \n",
    "                 5526: 'Belize', 5534: 'Papua Ny Guinea', 5599: 'Øer i Stillehavet', \n",
    "                 5607: 'Estland', 5609: 'Letland', 5611: 'Litauen', \n",
    "                 5621: 'Sao Tome og Principe', 5623: 'Salomonøerne', \n",
    "                 5625: 'Skt. Kitts og Nevis', 5700: 'Rusland', 5704: 'Ukraine', \n",
    "                 5706: 'Hviderusland', 5708: 'Armenien', 5710: 'Aserbajdsjan', \n",
    "                 5712: 'Moldova', 5714: 'Usbekistan', 5716: 'Kasakhstan', \n",
    "                 5718: 'Turkmenistan', 5720: 'Kirgisistan', 5722: 'Tadsjikistan', \n",
    "                 5724: 'Georgien', 5750: 'Kroatien', 5752: 'Slovenien', \n",
    "                 5754: 'Bosnien-Hercegovina', 5756: 'Makedonien', 5757: 'Serbien', \n",
    "                 5758: 'Jugoslavien, Forbundsrepublikken', 5759: 'Montenegro', \n",
    "                 5761: 'Kosovo', 5776: 'Tjekkiet', 5778: 'Slovakiet', 5779: 'Cookøerne', \n",
    "                 5800: 'Land ukendt (2)', 5901: 'Færøerne uoplyst', 5902: 'Færøerne', \n",
    "                 5999: 'Land ukendt (1)'}"
   ],
   "outputs": [],
   "metadata": {}
  },
  {
   "cell_type": "code",
   "execution_count": 11,
   "source": [
    "# 6. How many of those were from the other nordic countries (not dk). Hint: see notebook: \"04 Numpy\"\n",
    "nordic_countries = [\"Norge\",\"Sverige\",\"Finland\",\"Island\",\"Grønland\"] \n",
    "ma = mask_all_above65_cph_2015\n",
    "old_nords = 0\n",
    "for key, value in country_codes.items():\n",
    "    if value in nordic_countries:\n",
    "        print(value)\n",
    "        mask = (ma) & (dd[:, 3] == key)\n",
    "        country_sum = (dd[mask][0:,4].sum())\n",
    "        print(country_sum) \n",
    "        old_nords += country_sum\n",
    "print(\"Nordiske beboere over 65 år: \", old_nords)\n",
    "    "
   ],
   "outputs": [
    {
     "output_type": "stream",
     "name": "stdout",
     "text": [
      "Grønland\n",
      "0\n",
      "Finland\n",
      "72\n",
      "Island\n",
      "33\n",
      "Norge\n",
      "236\n",
      "Sverige\n",
      "267\n",
      "Nordiske beboere over 65 år:  608.0\n"
     ]
    }
   ],
   "metadata": {}
  },
  {
   "cell_type": "code",
   "execution_count": 104,
   "source": [
    "# 7. Make a line plot showing the changes of number of people in vesterbro and østerbro from 1992 to 2015\n",
    "\n",
    "import matplotlib.pyplot as plt\n",
    "\n",
    "mask_years = (dd[:, 0] >= 1992) & (dd[:, 0] < 2015)\n",
    "mask_vesterbro = (dd[:,1] == 2)\n",
    "mask_østerbro = (dd[:,1] == 4)\n",
    "\n",
    "manual_years = [1992, 1993, 1994, 1995, 1996, 1998, 1999, 2000, 2001, 2002, 2003, 2004]\n",
    "def number_of_people_per_mask_years(mask):\n",
    "    sd = dict()\n",
    "    for n in manual_years:\n",
    "        all_people_in_given_n = dd[mask & (dd[:, 0] == n)]\n",
    "        sum_of_people = all_people_in_given_n[:,4].sum() # index 4 is no of 'PERSONER'\n",
    "        sd.setdefault(n, sum_of_people)\n",
    "    plt.plot(list(sd.keys()), list(sd.values()))\n",
    "    return sd\n",
    "\n",
    "number_of_people_per_mask_years(mask_vesterbro)\n",
    "number_of_people_per_mask_years(mask_østerbro)\n"
   ],
   "outputs": [
    {
     "output_type": "execute_result",
     "data": {
      "text/plain": [
       "{1992: 47854,\n",
       " 1993: 47589,\n",
       " 1994: 47538,\n",
       " 1995: 47633,\n",
       " 1996: 47734,\n",
       " 1998: 49109,\n",
       " 1999: 49520,\n",
       " 2000: 50312,\n",
       " 2001: 50756,\n",
       " 2002: 51039,\n",
       " 2003: 51045,\n",
       " 2004: 50869}"
      ]
     },
     "metadata": {},
     "execution_count": 104
    },
    {
     "output_type": "display_data",
     "data": {
      "image/png": "[encoded data removed]",
      "text/plain": [
       "<Figure size 432x288 with 1 Axes>"
      ]
     },
     "metadata": {
      "needs_background": "light"
     }
    }
   ],
   "metadata": {}
  },
  {
   "cell_type": "markdown",
   "source": [],
   "metadata": {}
  }
 ],
 "metadata": {
  "interpreter": {
   "hash": "98b0a9b7b4eaaa670588a142fd0a9b87eaafe866f1db4228be72b4211d12040f"
  },
  "kernelspec": {
   "name": "python3",
   "display_name": "Python 3.7.6 64-bit ('base': conda)"
  },
  "language_info": {
   "codemirror_mode": {
    "name": "ipython",
    "version": 3
   },
   "file_extension": ".py",
   "mimetype": "text/x-python",
   "name": "python",
   "nbconvert_exporter": "python",
   "pygments_lexer": "ipython3",
   "version": "3.7.6"
  }
 },
 "nbformat": 4,
 "nbformat_minor": 4
}