{
 "cells": [
  {
   "cell_type": "markdown",
   "source": [
    "# Week 6 Hand-in"
   ],
   "metadata": {}
  },
  {
   "cell_type": "markdown",
   "source": [
    "## Class exercise 1\n"
   ],
   "metadata": {}
  },
  {
   "cell_type": "code",
   "execution_count": 1,
   "source": [
    "%pylab inline \n",
    "from modules.W6 import TextComparer as TC\n",
    "\n",
    "gemmeFiler = TC.TextComparer(\n",
    "        [\n",
    "        \"https://www.gutenberg.org/files/84/84-0.txt\",\n",
    "        \"https://www.gutenberg.org/files/1342/1342-0.txt\",\n",
    "        \"https://www.gutenberg.org/files/25344/25344-0.txt\"\n",
    "        ]\n",
    "        )\n"
   ],
   "outputs": [
    {
     "output_type": "stream",
     "name": "stdout",
     "text": [
      "Populating the interactive namespace from numpy and matplotlib\n"
     ]
    }
   ],
   "metadata": {}
  },
  {
   "cell_type": "code",
   "execution_count": 2,
   "source": [
    "gemmeFiler.multi_download()\n"
   ],
   "outputs": [
    {
     "output_type": "stream",
     "name": "stderr",
     "text": [
      "17it [00:00, 168.80it/s]\n",
      "\u001b[A"
     ]
    },
    {
     "output_type": "stream",
     "name": "stdout",
     "text": [
      "Status code: 200\n",
      "Status code: 200\n",
      "Status code: 200\n"
     ]
    },
    {
     "output_type": "stream",
     "name": "stderr",
     "text": [
      "41it [00:00, 185.12it/s]\n",
      "85it [00:00, 221.07it/s]\n",
      "135it [00:00, 265.44it/s]\n",
      "164it [00:00, 267.05it/s]\n",
      "214it [00:00, 310.06it/s]\n",
      "276it [00:00, 364.08it/s]\n",
      "331it [00:00, 404.08it/s]\n",
      "399it [00:00, 459.41it/s]\n",
      "439it [00:00, 443.15it/s]\n",
      "\n",
      "515it [00:01, 447.00it/s]\n",
      "\n",
      "\u001b[A\n",
      "\u001b[A\n",
      "781it [00:01, 623.30it/s]\n"
     ]
    },
    {
     "output_type": "execute_result",
     "data": {
      "text/plain": [
       "['tmp/w6/books/book0.txt', 'tmp/w6/books/book1.txt', 'tmp/w6/books/book2.txt']"
      ]
     },
     "metadata": {},
     "execution_count": 2
    }
   ],
   "metadata": {}
  },
  {
   "cell_type": "code",
   "execution_count": 3,
   "source": [
    "gemmeFiler.avg_vowels('tmp/W6/books/book0.txt')"
   ],
   "outputs": [
    {
     "output_type": "stream",
     "name": "stdout",
     "text": [
      "words:  78122\n",
      "vowels:  359569\n"
     ]
    },
    {
     "output_type": "execute_result",
     "data": {
      "text/plain": [
       "4.6"
      ]
     },
     "metadata": {},
     "execution_count": 3
    }
   ],
   "metadata": {}
  },
  {
   "cell_type": "code",
   "execution_count": 4,
   "source": [
    "gemmeFiler.hardest_read()"
   ],
   "outputs": [
    {
     "output_type": "stream",
     "name": "stdout",
     "text": [
      "words:  78122\n",
      "vowels:  359569\n",
      "words:  86965\n",
      "vowels:  419391\n",
      "words:  124749\n",
      "vowels:  577204\n"
     ]
    },
    {
     "output_type": "display_data",
     "data": {
      "image/png": "[encoded data removed]",
      "text/plain": [
       "<Figure size 432x288 with 1 Axes>"
      ]
     },
     "metadata": {
      "needs_background": "light"
     }
    },
    {
     "output_type": "execute_result",
     "data": {
      "text/plain": [
       "[]"
      ]
     },
     "metadata": {},
     "execution_count": 4
    }
   ],
   "metadata": {}
  }
 ],
 "metadata": {
  "interpreter": {
   "hash": "98b0a9b7b4eaaa670588a142fd0a9b87eaafe866f1db4228be72b4211d12040f"
  },
  "kernelspec": {
   "name": "python3",
   "display_name": "Python 3.7.6 64-bit ('base': conda)"
  },
  "language_info": {
   "codemirror_mode": {
    "name": "ipython",
    "version": 3
   },
   "file_extension": ".py",
   "mimetype": "text/x-python",
   "name": "python",
   "nbconvert_exporter": "python",
   "pygments_lexer": "ipython3",
   "version": "3.7.6"
  }
 },
 "nbformat": 4,
 "nbformat_minor": 4
}