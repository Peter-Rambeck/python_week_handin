{
 "cells": [
  {
   "cell_type": "markdown",
   "source": [
    "# Week 6 Hand-in"
   ],
   "metadata": {}
  },
  {
   "cell_type": "markdown",
   "source": [
    "## Class exercise 1\n"
   ],
   "metadata": {}
  },
  {
   "cell_type": "code",
   "execution_count": 1,
   "source": [
    "%pylab inline \n",
    "from modules.W6 import TextComparer as TC\n",
    "\n",
    "gemmeFiler = TC.TextComparer(\n",
    "        [\n",
    "        \"https://www.gutenberg.org/files/84/84-0.txt\",\n",
    "        \"https://www.gutenberg.org/files/1342/1342-0.txt\",\n",
    "        \"https://www.gutenberg.org/files/25344/25344-0.txt\"\n",
    "        ]\n",
    "        )\n"
   ],
   "outputs": [
    {
     "output_type": "stream",
     "name": "stdout",
     "text": [
      "Populating the interactive namespace from numpy and matplotlib\n"
     ]
    }
   ],
   "metadata": {}
  },
  {
   "cell_type": "code",
   "execution_count": 2,
   "source": [
    "gemmeFiler.multi_download()\n"
   ],
   "outputs": [
    {
     "output_type": "stream",
     "name": "stderr",
     "text": [
      "5it [00:00, 48.02it/s]\n",
      "\u001b[A"
     ]
    },
    {
     "output_type": "stream",
     "name": "stdout",
     "text": [
      "Status code: 200\n",
      "Status code: 200\n",
      "Status code: 200\n"
     ]
    },
    {
     "output_type": "stream",
     "name": "stderr",
     "text": [
      "36it [00:00, 64.33it/s]\n",
      "77it [00:00, 85.76it/s]\n",
      "119it [00:00, 112.49it/s]\n",
      "155it [00:00, 141.38it/s]\n",
      "188it [00:00, 170.63it/s]\n",
      "245it [00:00, 215.84it/s]\n",
      "302it [00:00, 264.16it/s]\n",
      "365it [00:00, 318.42it/s]\n",
      "426it [00:01, 370.98it/s]\n",
      "439it [00:01, 412.96it/s]\n",
      "\n",
      "515it [00:01, 479.81it/s]\n",
      "\n",
      "\u001b[A\n",
      "781it [00:01, 604.34it/s]\n"
     ]
    },
    {
     "output_type": "execute_result",
     "data": {
      "text/plain": [
       "['tmp/w6/books/book0.txt', 'tmp/w6/books/book1.txt', 'tmp/w6/books/book2.txt']"
      ]
     },
     "metadata": {},
     "execution_count": 2
    }
   ],
   "metadata": {}
  },
  {
   "cell_type": "code",
   "execution_count": 3,
   "source": [
    "gemmeFiler.hardest_read()\n"
   ],
   "outputs": [
    {
     "output_type": "stream",
     "name": "stdout",
     "text": [
      "words:  78122\n",
      "vowels:  359569words: \n",
      " 86965\n",
      "vowels:  419391\n",
      "words:  124749\n",
      "vowels:  577204\n"
     ]
    },
    {
     "output_type": "execute_result",
     "data": {
      "text/plain": [
       "[4.6, 4.63, 4.82]"
      ]
     },
     "metadata": {},
     "execution_count": 3
    }
   ],
   "metadata": {}
  }
 ],
 "metadata": {
  "interpreter": {
   "hash": "98b0a9b7b4eaaa670588a142fd0a9b87eaafe866f1db4228be72b4211d12040f"
  },
  "kernelspec": {
   "name": "python3",
   "display_name": "Python 3.7.6 64-bit ('base': conda)"
  },
  "language_info": {
   "codemirror_mode": {
    "name": "ipython",
    "version": 3
   },
   "file_extension": ".py",
   "mimetype": "text/x-python",
   "name": "python",
   "nbconvert_exporter": "python",
   "pygments_lexer": "ipython3",
   "version": "3.7.6"
  }
 },
 "nbformat": 4,
 "nbformat_minor": 4
}