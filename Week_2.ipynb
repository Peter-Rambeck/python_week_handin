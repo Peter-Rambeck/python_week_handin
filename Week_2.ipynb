{
 "cells": [
  {
   "cell_type": "markdown",
   "source": [
    "# Week 2 Hand-in"
   ],
   "metadata": {}
  },
  {
   "cell_type": "markdown",
   "source": [
    "## Exercise 1\n",
    "Create a python file with 3 functions:"
   ],
   "metadata": {}
  },
  {
   "cell_type": "code",
   "execution_count": 53,
   "source": [
    "# A. def print_file_content(file) that can print content of a csv file to the console\n",
    "\n",
    "import csv\n",
    "\n",
    "# Write to csv file\n",
    "filename_csv = 'tmp/filename_csv'\n",
    "def write_csv():\n",
    "    with open(filename_csv, 'w') as practice:\n",
    "        practice_writer = csv.writer(practice, delimiter = '\\t', )\n",
    "        practice_writer.writerow(['AAR', 'BYDEL', 'ALDER', 'STATKODE', 'PERSONER'])\n",
    "        practice_writer.writerow(['2015', '1', '0', '5100', '614,5'])\n",
    "        practice_writer.writerow(['2015', '1', '0', '5104', '2,3'])\n",
    "\n",
    "write_csv()\n",
    "\n",
    "# Read from csv file\n",
    "def read_csv_to_console():\n",
    "    with open(filename_csv, 'r') as practice_read:\n",
    "        reader = csv.reader(practice_read, delimiter = '\\t')\n",
    "        header = next(reader)\n",
    "\n",
    "        print('Row #' + str(reader.line_num) + ' ' + str(header))\n",
    "        \n",
    "        for row in reader:\n",
    "            print('Row #' + str(reader.line_num) + ' ' + str(row))\n",
    "\n",
    "read_csv_to_console()\n",
    "\n",
    "\n"
   ],
   "outputs": [
    {
     "output_type": "stream",
     "name": "stdout",
     "text": [
      "Row #1 ['AAR', 'BYDEL', 'ALDER', 'STATKODE', 'PERSONER']\n",
      "Row #2 ['2015', '1', '0', '5100', '614,5']\n",
      "Row #3 ['2015', '1', '0', '5104', '2,3']\n"
     ]
    }
   ],
   "metadata": {}
  },
  {
   "cell_type": "code",
   "execution_count": 59,
   "source": [
    "# B. def write_list_to_file(output_file, lst) that can take a list or tuple of strings and write each element to a new line in file\n",
    "\n",
    "import csv\n",
    "import platform\n",
    "\n",
    "if platform.system() == 'Windows':\n",
    "    newline=''\n",
    "else:\n",
    "    newline=None\n",
    "\n",
    "def write_list_to_file(output_file, lst):\n",
    "    with open(output_file, 'w') as file:\n",
    "        file_write = csv.writer(file, delimiter = '\\n' )\n",
    "        file_write.writerow(lst)\n",
    "\n",
    "write_list_to_file('tmp/output_file.csv', ['str1', 'str2', 'str3', 'str4'])\n",
    "\n",
    "    # a. rewrite the function so that it gets an arbitrary number of strings instead of a list\n",
    "\n",
    "# output_file2 = 'tmp/output_file2.csv'\n",
    "# def write_list_to_file2(output_file2, *lst2):\n",
    "#    with open(output_file2, 'w') as file2:\n",
    "#        file_write2 = csv.writer(file2)\n",
    "#        for i in lst2:\n",
    "#            file_write2.writerow(output_file2 + '-' + i)\n",
    "\n",
    "# write_list_to_file2('str1', 'str2', 'str3', 'str4')\n"
   ],
   "outputs": [],
   "metadata": {}
  },
  {
   "cell_type": "code",
   "execution_count": null,
   "source": [
    "# Add a functionality so that the file can be called from cli with 2 arguments:\n",
    "    # A. path to csv file\n",
    "    # B. an argument --file file_name that if given will write the content to file_name or otherwise will print it to the console.\n",
    "\n",
    "# 3. Add a --help cli argument to describe how the module is used\n",
    "\n",
    "\n",
    "## See file: 'cli_week_2.py' in modules folder to run functions with cli arguments\n",
    "\n",
    "import argparse\n",
    "import csv\n",
    "\n",
    "if __name__ == '__main__':\n",
    "    parser = argparse.ArgumentParser(description='A program that downloads a URL and stores it locally')\n",
    "    parser.add_argument('path', help='The URL to process')\n",
    "    parser.add_argument('lst', help='The name of the file to store the url in')\n",
    "\n",
    "    args = parser.parse_args()\n",
    "    # print('URL:', args.url)\n",
    "    # print('Destination:', args.destination)\n",
    "\n",
    "\n",
    "def write_list_to_file3(args):\n",
    "    print(args.path)\n",
    "    print(args.lst)\n",
    "    with open(args.path, 'w') as file3:\n",
    "        file_write = csv.writer(file3 ) #delimiter = '\\n'\n",
    "        file_write.writerow(args.lst)\n",
    "\n",
    "write_list_to_file3(args)"
   ],
   "outputs": [],
   "metadata": {}
  },
  {
   "cell_type": "markdown",
   "source": [
    "## Exercise 2\n",
    "Create a module called utils.py with the following 5 functions:"
   ],
   "metadata": {}
  },
  {
   "cell_type": "markdown",
   "source": [
    "def get_file_names(folderpath,out=output.txt):\n",
    "    \"\"\" takes a path to a folder and writes all filenames in the folder to a specified output file\"\"\"\n",
    "\n",
    "def get_all_file_names(folderpath,out=output.txt):\n",
    "    \"\"\"takes a path to a folder and write all filenames recursively (files of all sub folders to)\"\"\"\n",
    "\n",
    "def print_line_one(file_names):\n",
    "    \"\"\"takes a list of filenames and print the first line of each\"\"\"\n",
    "\n",
    "def print_emails(file_names):\n",
    "    \"\"\"takes a list of filenames and print each line that contains an email (just look for @)\"\"\"\n",
    "\n",
    "def write_headlines(md_files, out=output.txt):\n",
    "    \"\"\"takes a list of md files and writes all headlines (lines starting with #) to a file\"\"\"\n",
    "Make sure your module can be called both from cli and imported to another module Create a new module that imports utils.py and test each function."
   ],
   "metadata": {}
  }
 ],
 "metadata": {
  "kernelspec": {
   "name": "python3",
   "display_name": "Python 3.7.6 64-bit ('base': conda)"
  },
  "language_info": {
   "codemirror_mode": {
    "name": "ipython",
    "version": 3
   },
   "file_extension": ".py",
   "mimetype": "text/x-python",
   "name": "python",
   "nbconvert_exporter": "python",
   "pygments_lexer": "ipython3",
   "version": "3.7.6"
  },
  "interpreter": {
   "hash": "98b0a9b7b4eaaa670588a142fd0a9b87eaafe866f1db4228be72b4211d12040f"
  }
 },
 "nbformat": 4,
 "nbformat_minor": 4
}