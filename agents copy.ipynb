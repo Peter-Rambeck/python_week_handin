{
 "cells": [
  {
   "cell_type": "code",
   "execution_count": 22,
   "metadata": {},
   "outputs": [],
   "source": [
    "from typing import List, Text\n",
    "\n",
    "\n",
    "class NoAgentFoundException(Exception):\n",
    "    pass\n",
    "\n",
    "\n",
    "class Agent(object):\n",
    "\n",
    "    def __init__(self, name, skills: List, load: int):\n",
    "        self.name = name\n",
    "        self.skills = skills\n",
    "        self.load = load\n",
    "\n",
    "    def __str__(self):\n",
    "        return \"<Agent: {}>\".format(self._name)\n",
    "\n",
    "\n",
    "class Ticket(object):\n",
    "\n",
    "    def __init__(self, id: int, restrictions: List):\n",
    "        self.id = id\n",
    "        self.restrictions = restrictions\n",
    "    \n",
    "\n",
    "class FinderPolicy(object):\n",
    "    def _filter_loaded_agents(self, agents: List[Agent]) -> List[Agent]:\n",
    "        raise NotImplemented\n",
    "\n",
    "    def find(self, ticket: Ticket, agents: List[Agent]) -> Agent:\n",
    "        raise NotImplemented\n",
    "\n",
    "\n",
    "class LeastLoadedAgent(): #FinderPolicy\n",
    "    def find(self, ticket: Ticket, agents: List[Agent]) -> Agent:\n",
    "        raise NotImplemented               \n",
    "\n",
    "class LeastFlexibleAgent(FinderPolicy):\n",
    "    def find(self, ticket: Ticket, agents: List[Agent]) -> Agent:\n",
    "        raise NotImplemented"
   ]
  },
  {
   "cell_type": "code",
   "execution_count": 1,
   "metadata": {},
   "outputs": [
    {
     "ename": "NameError",
     "evalue": "name 'Ticket' is not defined",
     "output_type": "error",
     "traceback": [
      "\u001b[0;31m---------------------------------------------------------------------------\u001b[0m",
      "\u001b[0;31mNameError\u001b[0m                                 Traceback (most recent call last)",
      "\u001b[0;32m<ipython-input-1-dd1573df5ebc>\u001b[0m in \u001b[0;36m<module>\u001b[0;34m\u001b[0m\n\u001b[0;32m----> 1\u001b[0;31m \u001b[0mticket\u001b[0m \u001b[0;34m=\u001b[0m \u001b[0mTicket\u001b[0m\u001b[0;34m(\u001b[0m\u001b[0mid\u001b[0m\u001b[0;34m=\u001b[0m\u001b[0;34m\"1\"\u001b[0m\u001b[0;34m,\u001b[0m \u001b[0mrestrictions\u001b[0m\u001b[0;34m=\u001b[0m\u001b[0;34m[\u001b[0m\u001b[0;34m\"English\"\u001b[0m\u001b[0;34m]\u001b[0m\u001b[0;34m)\u001b[0m\u001b[0;34m\u001b[0m\u001b[0;34m\u001b[0m\u001b[0m\n\u001b[0m\u001b[1;32m      2\u001b[0m \u001b[0;34m\u001b[0m\u001b[0m\n\u001b[1;32m      3\u001b[0m \u001b[0;31m## Peter's instantiation\u001b[0m\u001b[0;34m\u001b[0m\u001b[0;34m\u001b[0m\u001b[0;34m\u001b[0m\u001b[0m\n\u001b[1;32m      4\u001b[0m \u001b[0;31m#agent1 = Agent(name=\"A\", skills=[\"English\"], load=2)\u001b[0m\u001b[0;34m\u001b[0m\u001b[0;34m\u001b[0m\u001b[0;34m\u001b[0m\u001b[0m\n\u001b[1;32m      5\u001b[0m \u001b[0;31m#agent2 = Agent(name=\"B\", skills=[\"English\", \"Japanese\"], load=0)\u001b[0m\u001b[0;34m\u001b[0m\u001b[0;34m\u001b[0m\u001b[0;34m\u001b[0m\u001b[0m\n",
      "\u001b[0;31mNameError\u001b[0m: name 'Ticket' is not defined"
     ]
    }
   ],
   "source": [
    "ticket = Ticket(id=\"1\", restrictions=[\"English\"])\n",
    "\n",
    "## Peter's instantiation\n",
    "#agent1 = Agent(name=\"A\", skills=[\"English\"], load=2)\n",
    "#agent2 = Agent(name=\"B\", skills=[\"English\", \"Japanese\"], load=0)\n",
    "\n",
    "available = LeastLoadedAgent()\n",
    "\n",
    "## Peter's call.\n",
    "#available.find(ticket, agents = [agent1,agent2])\n",
    "\n"
   ]
  },
  {
   "cell_type": "code",
   "execution_count": null,
   "metadata": {},
   "outputs": [],
   "source": []
  }
 ],
 "metadata": {
  "interpreter": {
   "hash": "d4d1e4263499bec80672ea0156c357c1ee493ec2b1c70f0acce89fc37c4a6abe"
  },
  "kernelspec": {
   "display_name": "Python 3.7.6 64-bit ('base': conda)",
   "name": "python3"
  },
  "language_info": {
   "codemirror_mode": {
    "name": "ipython",
    "version": 3
   },
   "file_extension": ".py",
   "mimetype": "text/x-python",
   "name": "python",
   "nbconvert_exporter": "python",
   "pygments_lexer": "ipython3",
   "version": "3.7.6"
  },
  "orig_nbformat": 4
 },
 "nbformat": 4,
 "nbformat_minor": 2
}
