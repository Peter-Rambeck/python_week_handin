{
 "cells": [
  {
   "cell_type": "markdown",
   "metadata": {},
   "source": [
    "# Week 7 Hand-in"
   ]
  },
  {
   "cell_type": "code",
   "execution_count": 1,
   "metadata": {},
   "outputs": [],
   "source": [
    "from selenium import webdriver\n",
    "from selenium.webdriver.common.keys import Keys\n",
    "from selenium.webdriver.firefox.options import Options\n",
    "from selenium import webdriver\n",
    "from time import sleep\n",
    "from selenium.webdriver.common.by import By\n",
    "from selenium.webdriver.support.ui import WebDriverWait\n",
    "from selenium.webdriver.support import expected_conditions as EC\n",
    "from selenium.common.exceptions import NoSuchElementException\n",
    "\n",
    "import bs4\n",
    "import json\n",
    "\n",
    "\n",
    "## Perform a search and return a list of Articles from the search and the new page_url  \n",
    "\n",
    "def natgeo_interaction(search: str, element: str, url: str):\n",
    "    profile = webdriver.FirefoxProfile()\n",
    "    profile.set_preference(\"general.useragent.override\", \"Mozilla/5.0 (X11; Ubuntu; Linux x86_64; rv:81.0) Gecko/20100101 Firefox/81.0\")\n",
    "    \n",
    "    # headless is needed here because we do not have a GUI version of firefox\n",
    "    options = Options()\n",
    "    options.headless = True\n",
    "       \n",
    "    # driver = webdriver.Firefox(options=options, executable_path=r'/tmp/geckodriver')\n",
    "    browser = webdriver.Firefox(options=options)\n",
    "       \n",
    "    # browser = webdriver.Firefox()\n",
    "    browser.get(url)\n",
    "    \n",
    "    browser.implicitly_wait(2)\n",
    "\n",
    "    ##if browser.find_element_by_class_name('onetrust-pc-dark-filter').is_displayed(): \n",
    "        ##print('not_success')\n",
    "        ##button = browser.find_element_by_id('onetrust-accept-btn-handler')\n",
    "        ##button.click()\n",
    "    ##else:\n",
    "    \n",
    "    search_field = browser.find_element_by_class_name('SearchBar__Input')\n",
    "    search_field.send_keys(search)\n",
    "    button = browser.find_element_by_xpath('//*[@id=\"natgeo-search-input\"]/div/form/button')\n",
    "    button.click()\n",
    "    sleep(3)\n",
    "    \n",
    "    articles = browser.find_elements_by_class_name(element)\n",
    "    page_url = browser.current_url\n",
    "    return articles, page_url\n",
    "\n",
    "\n"
   ]
  },
  {
   "cell_type": "code",
   "execution_count": 2,
   "metadata": {},
   "outputs": [
    {
     "name": "stdout",
     "output_type": "stream",
     "text": [
      "There are 16 acticles for COVID\n",
      "https://www.nationalgeographic.com/search?q=COVID&location=srp&type=manual\n"
     ]
    }
   ],
   "source": [
    "## Return number of Articles on the page from the search and page url.\n",
    "\n",
    "search = 'COVID'\n",
    "element ='ResultCard' # The wrapper class for articles\n",
    "url = 'https://www.nationalgeographic.com/search'\n",
    "\n",
    "articles, page_url = natgeo_interaction(search, element, url)\n",
    "\n",
    "print(f'There are {len(articles)} acticles for {search}')\n",
    "print(page_url)\n"
   ]
  },
  {
   "cell_type": "code",
   "execution_count": 3,
   "metadata": {},
   "outputs": [
    {
     "name": "stdout",
     "output_type": "stream",
     "text": [
      "<class 'list'>\n"
     ]
    }
   ],
   "source": [
    "# Return a list of the a-tags from articles\n",
    "\n",
    "def find_links_for_default_page(page):\n",
    "    profile = webdriver.FirefoxProfile()\n",
    "    profile.set_preference(\"general.useragent.override\", \"Mozilla/5.0 (X11; Ubuntu; Linux x86_64; rv:81.0) Gecko/20100101 Firefox/81.0\")\n",
    "    \n",
    "    # headless is needed here because we do not have a GUI version of firefox\n",
    "    options = Options()\n",
    "    options.headless = True\n",
    "       \n",
    "    # driver = webdriver.Firefox(options=options, executable_path=r'/tmp/geckodriver')\n",
    "    browser = webdriver.Firefox(options=options)\n",
    "       \n",
    "    # browser = webdriver.Firefox()\n",
    "    browser.get(page)    \n",
    "    Result_set = browser.find_elements_by_xpath(\"//a[@class='AnchorLink ResultCard__Link'][@href]\")    \n",
    "    Attribute_set = [link.text for link in Result_set]\n",
    "    return Result_set, Attribute_set\n",
    "\n",
    "Result_set, Attribute_set = find_links_for_default_page(page_url)\n",
    "print(type(Result_set))"
   ]
  },
  {
   "cell_type": "code",
   "execution_count": 4,
   "metadata": {},
   "outputs": [],
   "source": [
    "# Return a list of the links connecting to the articles (from the search field)\n",
    "\n",
    "def links(list):\n",
    "    links = []\n",
    "    for elem in list:\n",
    "        my_href = elem.get_attribute(\"href\")\n",
    "        if 'article' in my_href:\n",
    "            ref = my_href\n",
    "            links.append(ref)\n",
    "        else:\n",
    "           pass\n",
    "    return links\n",
    "Result_set = links(Result_set)"
   ]
  },
  {
   "cell_type": "code",
   "execution_count": 15,
   "metadata": {},
   "outputs": [
    {
     "name": "stdout",
     "output_type": "stream",
     "text": [
      "Populating the interactive namespace from numpy and matplotlib\n"
     ]
    },
    {
     "data": {
      "image/png": "[encoded data removed]",
      "text/plain": [
       "<Figure size 432x288 with 1 Axes>"
      ]
     },
     "metadata": {
      "needs_background": "light"
     },
     "output_type": "display_data"
    }
   ],
   "source": [
    "# Go through every article 1-16, select 'a' tags, return a dictionary and plot links per article \n",
    "\n",
    "import requests\n",
    "import pandas as pd\n",
    "import matplotlib.pyplot as plt\n",
    "\n",
    "def find_links_for_articles(list):\n",
    "    dict ={}\n",
    "    counter = 0\n",
    "    for link in list:\n",
    "        r = requests.get(link)\n",
    "        r.raise_for_status()\n",
    "        soup = bs4.BeautifulSoup(r.text, 'html.parser')\n",
    "        elems = soup.select('a')\n",
    "        number_of_a = len(elems)\n",
    "        counter += 1\n",
    "        dict.setdefault(counter, number_of_a)\n",
    "    return dict\n",
    "dict = find_links_for_articles(Result_set)\n",
    "\n",
    "def make_plot(dict):\n",
    "    plt.plot(list(dict.keys()), list(dict.values()))\n",
    "make_plot(dict)\n",
    "    \n",
    "\n"
   ]
  },
  {
   "cell_type": "markdown",
   "metadata": {},
   "source": [
    "## Class exercise 1\n"
   ]
  },
  {
   "cell_type": "code",
   "execution_count": null,
   "metadata": {},
   "outputs": [],
   "source": [
    "%pylab inline \n"
   ]
  },
  {
   "cell_type": "code",
   "execution_count": 8,
   "metadata": {},
   "outputs": [],
   "source": [
    "text = \"\"\"\n",
    "\"Peter Hansen was meeting up with Jacob Fransen for a quick lunch, but first he had to go by Peter Beier to pick up some chokolate for his wife. Meanwhile Pastor Peter Jensen was going to church to give his sermon for the same 3 people in his parish. Those were Peter Kold and Henrik Halberg plus a third person who had recently moved here from Norway called Peter Harold\".\n",
    "\"\"\""
   ]
  },
  {
   "cell_type": "code",
   "execution_count": 9,
   "metadata": {},
   "outputs": [
    {
     "name": "stdout",
     "output_type": "stream",
     "text": [
      "[('Peter', ' ', 'Hansen'), ('Peter', ' ', 'Beier'), ('Peter', ' ', 'Jensen'), ('Peter', ' ', 'Kold'), ('Peter', ' ', 'Harold')]\n",
      "<class 'list'>\n",
      "0 Hansen\n",
      "1 Beier\n",
      "2 Jensen\n",
      "3 Kold\n",
      "4 Harold\n"
     ]
    }
   ],
   "source": [
    "import re\n",
    "\n",
    "p = re.compile(r'(Peter)(\\s)(\\w+)')\n",
    "peter_family_names = p.findall(text)\n",
    "print(peter_family_names)\n",
    "print(type(peter_family_names))\n",
    "iter_obj = p.finditer(text)\n",
    "\n",
    "for idx, k in enumerate(iter_obj):\n",
    "    print(f'{idx} {k.group(3)}')"
   ]
  }
 ],
 "metadata": {
  "interpreter": {
   "hash": "d4d1e4263499bec80672ea0156c357c1ee493ec2b1c70f0acce89fc37c4a6abe"
  },
  "kernelspec": {
   "display_name": "Python 3.7.6 64-bit ('base': conda)",
   "name": "python3"
  },
  "language_info": {
   "codemirror_mode": {
    "name": "ipython",
    "version": 3
   },
   "file_extension": ".py",
   "mimetype": "text/x-python",
   "name": "python",
   "nbconvert_exporter": "python",
   "pygments_lexer": "ipython3",
   "version": "3.7.6"
  }
 },
 "nbformat": 4,
 "nbformat_minor": 4
}
