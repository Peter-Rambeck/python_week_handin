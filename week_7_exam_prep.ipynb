{
 "cells": [
  {
   "cell_type": "code",
   "execution_count": 1,
   "metadata": {},
   "outputs": [
    {
     "name": "stdout",
     "output_type": "stream",
     "text": [
      "20\n",
      "0 At sige at Thailand har det hele, er en sandhed, vi kan stå inde for. Her er bekvemmelighed til børnefamilien. Velbevarede kulturskatte og en spændende historie til de videbegærlige. Moderne storbyliv mikset med Østens mystik. Eventyrlig natur, der lokker til skattejagt og vandreture. Små paradisiske perler hvor bølger og søvndyssende palmesvaj stadig er det, der larmer mest.\n",
      "1 Thailand er et sammensurium af alt det bedste, Asien har at byde på. Rejser du med Stjernegaard, hjælper vi dig uden om turistfælderne, videre til de bedste strande og helt ind til kernen af det autentiske Thailand. Verden har måske fået øjnene op for Thailand, men vi er altid et stort skridt foran.\n",
      "2 Hos Stjernegaard har vi selv rejst Thailand tyndt siden 1979, og vi kender derfor næsten alle hjørner af landet. At vi alligevel bliver ved med at vende tilbage hertil skyldes, at Thailand kan noget helt specielt og har en særlig plads i vores hjerter.\n",
      "3 For at sikre dig den bedste rejse til Thailand har vi kræset om detaljerne. Vi har udvalgt de byer, øer og områder, der stadig har masser at byde på, vi har håndplukket de hoteller, der kan noget særligt, og så har vi ikke mindst et stærkt team af danske rejseledere og lokale guider, som giver dig den fuldendte oplevelse og forståelse af landet. Hertil har vi udviklet en række spændende rundrejser til Thailand med dansk rejseleder samt rejseforslag til individuelle rejser, så du kan opleve Thailand på lige præcis den måde, du drømmer om.\n",
      "4 Med Stjernegaard bestemmer du selv, om du vil rejse alene eller følges med en gruppe, når du rejser til Thailand.\n",
      "5 Når du rejser til Thailand med Stjernegaard, har du valget mellem tre spændende rejseformer. Hvilken rejseform du skal vælge, afhænger af om du foretrækker at opleve og nyde livet i dit eget tempo. Eller om du vil have fuld blus på oplevelserne.\n",
      "6 Thailand på egen håndStjernegaard tilbyder en række rejseforslag til dig, der gerne vil opleve Thailand på egen hånd, hvad enten det er sammen med din familie, din rejsepartner eller som solo.\n",
      "7 Vi sørger for al transport, indkvarterer dig på de hoteller, du ønsker og tilbyder en række spændende udflugter, så du kan få den fulde oplevelse af rejsemålet. Rejsen er helt og aldeles på dine præmisser, men du har altid Stjernegaard i ryggen.\n",
      "8 Mageløse oplevelserDer er mange gode muligheder for at opleve Thailand på en fast tilrettelagt rejse, hvor du rejser med en lille gruppe af max 20 personer. I løbet af rejsen bor du 3-4 steder, og der vil være mulighed for tilkøb af en udflugtspakke, så du også kan få set det, der er værd at se.\n",
      "9 Rundrejse til Thailand med dansk rejselederVil du opleve det hele, og drømmer du om at lære en masse, kan du vælge en rundrejse til Thailand med dansk rejseleder. Rundrejserne foregår i små grupper af max 25 personer, hvor du undervejs bor flere forskellige steder, så du får så meget som muligt med\n",
      "10 Thailand er kendt for sine skønne kridhvide sandstrande, der løber ud i et turkisblåt hav.\n",
      "11 Der er ingen tvivl om, at Thailand byder på en af verdens fineste samlinger af strande, men samtidigt er der stor forskel – både hvad angår paradisfaktor, dykke- og snorkelforhold og tilgængelighed.\n",
      "12 Thailand er et stort land med alt, hvad det rejselystne hjerte begærer, men desværre er det så godt som umuligt at se det hele. Vælger du en rejse bygget op omkring 3-4 steder, kan du fx tilbringe et par dage i Bangkok, nogle dage i en af de skønne nationalparker og slutte rejsen af på en paradisisk strand. Har du fuldt fokus på strandlivet, findes der utallige muligheder for øhop, men der er også mange andre måder at strikke et skønt eventyr sammen på.\n",
      "13 Lad dig inspirere af vores mange rejseforslag til Thailand eller ring til en af vores Thailand-eksperter og få en snak om, hvordan din ferie får den rette balance af naturoplevelser, kultur og daseferie.\n",
      "14 Thailand har måske været et populært rejsemål gennem flere årtier, men dermed ikke sagt, at Thailand ikke stadig kan overraske. Mens nogle strandområder har oplevet en massiv turisme, har andre øer og områder ligget godt i læ for turiststrømmene, og det betyder, at du til stadighed kan finde små, næsten uberørte oaser i både nord og syd.\n",
      "15 Højt mod nord finder du uspoleret natur, stammelandsbyer langt ude på landet og charmerende byer, der stadig emmer af Østens mystik. Og selv i Siambugten og Andamanerhavet finder du små paradisiske perler, der stadig er så godt som uberørte.\n",
      "16 Læs mere på vores blog om Thailand\n",
      "17 Når du rejser med Stjernegaard, har du valget mellem forskellige typer af indkvartering fra 2 til 5 stjerner, som vi har håndplukket specielt til vores gæster og vores rejser.\n",
      "18 Du finder enkle, hyggelige bungalows på stranden, store flotte resorts, der har det hele, charmerende boutiquehoteller, økoluksus og så får du endda mulighed for at bo på en flydende camp i Khao Sok National Park, hvis du vil prøve noget markant anderledes. Hotelstandarden er generelt høj og servicen er god – og du får stadig rigtig meget for pengene, når du rejser i Thailand.\n",
      "19 Se alle områder og hoteller i Thailand\n"
     ]
    }
   ],
   "source": [
    "from bs4 import BeautifulSoup\n",
    "import requests\n",
    "\n",
    "\n",
    "def get_thai_meta_text(url):\n",
    "    r = requests.get(url)\n",
    "    r.raise_for_status()\n",
    "    soup = BeautifulSoup(r.text, 'html.parser')\n",
    "    pattern = 'Thailand'\n",
    "    text = soup.select('div[class=pageText] > p')\n",
    "\n",
    "    print(len(text))\n",
    "    with open('tmp/thaiText2.txt', \"w\") as file:\n",
    "        for idx, val in enumerate(text):\n",
    "            print(idx, val.getText())\n",
    "            #file_write = text.writer(file2, delimiter = '\\n')\n",
    "            file.write(str(idx))\n",
    "            file.write('\\n')\n",
    "            file.write(val.getText())\n",
    "            file.write('\\n')\n",
    "\n",
    "get_thai_meta_text('https://www.stjernegaard-rejser.dk/thailand/#content8848')\n"
   ]
  },
  {
   "cell_type": "code",
   "execution_count": 19,
   "metadata": {},
   "outputs": [
    {
     "name": "stdout",
     "output_type": "stream",
     "text": [
      "['Indbyggertal', 'Areal', 'Sprog', 'Gennemsnitlig levealder', 'Valuta', 'Tidsforskel']\n",
      "['ca. 69 mio', '513.120 km2', 'Thai samt 50 forskellige dialekter', 'Mænd 72 år, kvinder 78 år', 'Thai Baht. 1.000 THB svarer til ca. 200 DKK', 'Når klokken er 12.00 i Danmark, er den 18.00 i Thailand (17.00 ved sommertid)']\n",
      "{}\n"
     ]
    }
   ],
   "source": [
    "from selenium import webdriver\n",
    "from bs4 import BeautifulSoup\n",
    "from selenium.webdriver.firefox.options import Options\n",
    "from lxml import etree\n",
    "\n",
    "def browser(url):\n",
    "    options = Options()\n",
    "    options.headless = True\n",
    "    #options.add_argument('--ignore-certificate-errors')\n",
    "    options.add_argument('--incognito')\n",
    "    #options.add_argument('--headless')\n",
    "\n",
    "    browser = webdriver.Firefox(options=options)\n",
    "\n",
    "    browser.get(url)\n",
    "    browser.implicitly_wait(2)\n",
    "    return browser\n",
    "\n",
    "from time import sleep\n",
    "\n",
    "def get_page():\n",
    "    page = browser('https://www.stjernegaard-rejser.dk/thailand/#content8848')\n",
    "    sleep(3)\n",
    "\n",
    "    elem = page.find_element_by_xpath('//*[@id=\"CybotCookiebotDialogBodyLevelButtonLevelOptinDeclineAll\"]')\n",
    "    if (elem):\n",
    "        elem.click()\n",
    "        pass\n",
    "    \n",
    "    container = page.find_element_by_xpath(\"/html/body/main/div[5]/div\").get_attribute('innerHTML')\n",
    "    html = etree.HTML(container)\n",
    "\n",
    "    text_dict = {}\n",
    "    h3s = []\n",
    "    ps = []\n",
    "\n",
    "    for h3 in html.iter('h3'):\n",
    "        h3s.append(h3.text)   \n",
    "    for p in html.iter('p'):\n",
    "        ps.append(p.text) \n",
    "    \n",
    "    #text_dict.setdefault(key, value)\n",
    "    print(h3s)\n",
    "    print(ps)\n",
    "    print(text_dict)\n",
    "\n",
    "    page.close()\n",
    "\n",
    "    return container\n",
    "\n",
    "container = get_page()    \n",
    "\n",
    "\n",
    "def get_element(source):\n",
    "    soup = BeautifulSoup(source, 'lxml')\n",
    "    tags = soup.find_all('h3')\n",
    "    for tag in tags:\n",
    "        print(tag.getText())\n",
    "\n",
    "#get_element(get_page())\n"
   ]
  },
  {
   "cell_type": "code",
   "execution_count": 3,
   "metadata": {},
   "outputs": [
    {
     "ename": "AttributeError",
     "evalue": "'function' object has no attribute 'find_element_by_xpath'",
     "output_type": "error",
     "traceback": [
      "\u001b[0;31m---------------------------------------------------------------------------\u001b[0m",
      "\u001b[0;31mAttributeError\u001b[0m                            Traceback (most recent call last)",
      "\u001b[0;32m<ipython-input-3-c9ea4865198d>\u001b[0m in \u001b[0;36m<module>\u001b[0;34m\u001b[0m\n\u001b[0;32m----> 1\u001b[0;31m tbody = browser.find_element_by_xpath(\n\u001b[0m\u001b[1;32m      2\u001b[0m     \u001b[0;34m'//*[@id=\"page-content\"]/div/productdetailpage/section/div[1]/render-partial/div/product-detail/accordion-group/div/div/div[1]/div/product-detail-declaration/div[1]/table/tbody'\u001b[0m\u001b[0;34m\u001b[0m\u001b[0;34m\u001b[0m\u001b[0m\n\u001b[1;32m      3\u001b[0m     ).get_attribute(\"innerHTML\")\n\u001b[1;32m      4\u001b[0m \u001b[0mhtml\u001b[0m \u001b[0;34m=\u001b[0m \u001b[0metree\u001b[0m\u001b[0;34m.\u001b[0m\u001b[0mHTML\u001b[0m\u001b[0;34m(\u001b[0m\u001b[0mtbody\u001b[0m\u001b[0;34m)\u001b[0m\u001b[0;34m\u001b[0m\u001b[0;34m\u001b[0m\u001b[0m\n\u001b[1;32m      5\u001b[0m \u001b[0mprint\u001b[0m\u001b[0;34m(\u001b[0m\u001b[0mhtml\u001b[0m\u001b[0;34m)\u001b[0m\u001b[0;34m\u001b[0m\u001b[0;34m\u001b[0m\u001b[0m\n",
      "\u001b[0;31mAttributeError\u001b[0m: 'function' object has no attribute 'find_element_by_xpath'"
     ]
    }
   ],
   "source": [
    "def \n",
    "\n",
    "tbody = browser.find_element_by_xpath(\n",
    "    '//*[@id=\"page-content\"]/div/productdetailpage/section/div[1]/render-partial/div/product-detail/accordion-group/div/div/div[1]/div/product-detail-declaration/div[1]/table/tbody'\n",
    "    ).get_attribute(\"innerHTML\")\n",
    "html = etree.HTML(tbody)\n",
    "print(html)\n",
    "print(html.attrib)"
   ]
  },
  {
   "cell_type": "code",
   "execution_count": null,
   "metadata": {},
   "outputs": [],
   "source": [
    "soup = BeautifulSoup(page_source, 'lxml')\n",
    "reviews = []\n",
    "reviews_selector = soup.find_all('div', class_='reviewSelector')\n",
    "for review_selector in reviews_selector:\n",
    "    review_div = review_selector.find('div', class_='dyn_full_review')\n",
    "    if review_div is None:\n",
    "        review_div = review_selector.find('div', class_='basic_review')\n",
    "    review = review_div.find('div', class_='entry').find('p').get_text()\n",
    "    review = review.strip()\n",
    "    reviews.append(review)\n"
   ]
  }
 ],
 "metadata": {
  "interpreter": {
   "hash": "d4d1e4263499bec80672ea0156c357c1ee493ec2b1c70f0acce89fc37c4a6abe"
  },
  "kernelspec": {
   "display_name": "Python 3.7.6 64-bit ('base': conda)",
   "language": "python",
   "name": "python3"
  },
  "language_info": {
   "codemirror_mode": {
    "name": "ipython",
    "version": 3
   },
   "file_extension": ".py",
   "mimetype": "text/x-python",
   "name": "python",
   "nbconvert_exporter": "python",
   "pygments_lexer": "ipython3",
   "version": "3.7.6"
  },
  "orig_nbformat": 4
 },
 "nbformat": 4,
 "nbformat_minor": 2
}
