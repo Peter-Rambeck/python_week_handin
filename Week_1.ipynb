{
 "cells": [
  {
   "cell_type": "markdown",
   "metadata": {},
   "source": [
    "# Week 1 handin"
   ]
  },
  {
   "cell_type": "markdown",
   "metadata": {},
   "source": [
    "## 01 Assignment\n",
    "Here is the text for the assignment linked to"
   ]
  },
  {
   "cell_type": "code",
   "execution_count": 1,
   "metadata": {},
   "outputs": [
    {
     "name": "stdout",
     "output_type": "stream",
     "text": [
      "['Hans']\n"
     ]
    }
   ],
   "source": [
    "# A. Iterate a list of names to return a list of the names starting with H\n",
    "my_list = ['Peter', 'Jens', 'Hans', 'Tobias']\n",
    "new_list = [name for name in my_list if name[0] == 'H' ]\n",
    "print(new_list)"
   ]
  },
  {
   "cell_type": "code",
   "execution_count": null,
   "metadata": {},
   "outputs": [],
   "source": [
    "# B. In one line create a list of the numbers 1-100 to the power of 3\n",
    "one_line = [number ** 3 for number in range(1, 101)]\n",
    "print(one_line)"
   ]
  },
  {
   "cell_type": "code",
   "execution_count": null,
   "metadata": {},
   "outputs": [],
   "source": [
    "# C. Iterate a list of names to create a list of tuples where the tuples first value is the length of the name and the second is the name\n",
    "my_list = ['Peter', 'Jens', 'Hans', 'Tobias']\n",
    "tuple_list = tuple([(len(element), element) for element in my_list])\n",
    "print(tuple_list)"
   ]
  },
  {
   "cell_type": "code",
   "execution_count": null,
   "metadata": {},
   "outputs": [],
   "source": [
    "# D. Iterate over each character in a string and get only those that are nummeric\n",
    "my_string = \"Hanse1mand2\"\n",
    "numeric_list = [element for element in my_string if element.isdigit()]\n",
    "print(numeric_list)"
   ]
  },
  {
   "cell_type": "code",
   "execution_count": null,
   "metadata": {},
   "outputs": [],
   "source": [
    "# E. Using only a list comprehension wrapped in set() get all possible combination from throwing 2 dice \n",
    "# # (hint use 2 for loops in a single list comprehension)\n",
    "my_dice_list = set([(val1,val2) for val1 in range(1,7) for val2 in range(1,7)])\n",
    "print(my_dice_list)"
   ]
  },
  {
   "cell_type": "markdown",
   "metadata": {},
   "source": [
    "## 02 Status\n",
    "Here is a status on the handin. How far you got. What is implemented and what is not"
   ]
  },
  {
   "cell_type": "code",
   "execution_count": null,
   "metadata": {},
   "outputs": [],
   "source": [
    "# A. Iterate a list of names and create a dictionary where key is the name and value is the length of the name\n",
    "my_list = ['Peter', 'Jens', 'Tobias']\n",
    "my_dict_list = dict([(element, len(element)) for element in my_list])\n",
    "print(my_dict_list)"
   ]
  },
  {
   "cell_type": "code",
   "execution_count": null,
   "metadata": {},
   "outputs": [],
   "source": [
    "# B. Iterate a list of numbers and create a dictionary with {key:value} being {number:squareroot_of_number}\n",
    "import math\n",
    "my_list = [1, 2, 3, 4]\n",
    "my_dict_sqr_number = dict([(value, math.sqrt(value)) for value in my_list])\n",
    "print(my_dict_sqr_number)"
   ]
  },
  {
   "cell_type": "markdown",
   "metadata": {},
   "source": [
    "## 03 Solution part 1"
   ]
  },
  {
   "cell_type": "code",
   "execution_count": null,
   "metadata": {},
   "outputs": [
    {
     "ename": "",
     "evalue": "",
     "output_type": "error",
     "traceback": [
      "\u001b[1;31mRunning cells with 'Python 3.6.9 64-bit' requires ipykernel package.\n",
      "Run the following command to install 'ipykernel' into the Python environment. \n",
      "Command: '/usr/bin/python3 -m pip install ipykernel -U --user --force-reinstall'"
     ]
    }
   ],
   "source": [
    "# Progammatically using loops create a small program to produce a dictionary with all the 2 dice throw combinations as keys (eg: 2,3,4...etc) and their likelyhood in percent as values\n",
    "\n",
    "\n",
    "combinations = []\n",
    "for i in range(1, 7):\n",
    "    for j in range(1, 7):\n",
    "           combinations.append(i+j)\n",
    "\n",
    "probability = []\n",
    "for i in combinations:\n",
    "    probability_i = round(1/len(combinations), 3)\n",
    "    probability.append(probability_i)\n",
    "\n",
    "\n",
    "my_dict = dict([(key, value) for key in combinations for value in probability])\n",
    "my_dict"
   ]
  },
  {
   "cell_type": "markdown",
   "metadata": {},
   "source": [
    "# Exercises\n",
    "  1. Use the `range()` function to make a list of the odd numbers from 1 to 20. **Hint** in ipython and this notebooks you can see a functions help text by executing for example `range?`\n",
    "  2. Create a list with the even number values from two to one million. Use `min(list)` and `max(list)` to make sure your list actually starts at two and ends at one million. Also, use the `sum(list)` function to compute the sum of all values.\n",
    "  3. Create a list of the multiples of 3 - going from 3 to 300. **HINT: USE A LIST COMPREHENSION**\n",
    "  4. A number raised to the third power is called a cube. For example, the cube of 2 is written as `2**3` in Python. Create a list of the first 10 cubes (that is, the cube of each integer from 1 through 10).\n"
   ]
  },
  {
   "cell_type": "code",
   "execution_count": 29,
   "metadata": {},
   "outputs": [
    {
     "name": "stdout",
     "output_type": "stream",
     "text": [
      "[1, 3, 5, 7, 9, 11, 13, 15, 17, 19]\n"
     ]
    }
   ],
   "source": [
    "from typing import List, Tuple\n",
    "def make_a_odd_range(start:int, stop: int) -> List[str]:\n",
    "    #my_comp = [element*2 for element in my_list if element > 900]\n",
    "    my_list = range(start, stop)\n",
    "\n",
    "    ints = [ i for i in my_list if(i%2 != 0) ]\n",
    "    return ints\n",
    "\n",
    "x = make_a_odd_range(0, 20)\n",
    "print(x)\n"
   ]
  },
  {
   "cell_type": "code",
   "execution_count": null,
   "metadata": {},
   "outputs": [],
   "source": []
  }
 ],
 "metadata": {
  "interpreter": {
   "hash": "98b0a9b7b4eaaa670588a142fd0a9b87eaafe866f1db4228be72b4211d12040f"
  },
  "kernelspec": {
   "display_name": "Python 3",
   "language": "python",
   "name": "python3"
  },
  "language_info": {
   "codemirror_mode": {
    "name": "ipython",
    "version": 3
   },
   "file_extension": ".py",
   "mimetype": "text/x-python",
   "name": "python",
   "nbconvert_exporter": "python",
   "pygments_lexer": "ipython3",
   "version": "3.7.6"
  }
 },
 "nbformat": 4,
 "nbformat_minor": 4
}
