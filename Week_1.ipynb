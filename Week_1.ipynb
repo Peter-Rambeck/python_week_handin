{
 "cells": [
  {
   "cell_type": "markdown",
   "source": [
    "# Week 1 handin"
   ],
   "metadata": {}
  },
  {
   "cell_type": "markdown",
   "source": [
    "## 01 Assignment\n",
    "Here is the text for the assignment linked to"
   ],
   "metadata": {}
  },
  {
   "cell_type": "code",
   "execution_count": null,
   "source": [
    "# A. Iterate a list of names to return a list of the names starting with H\n",
    "my_list = ['Peter', 'Jens', 'Hans', 'Tobias']\n",
    "new_list = [name for name in my_list if name[0] == 'H' ]\n",
    "print(new_list)"
   ],
   "outputs": [],
   "metadata": {}
  },
  {
   "cell_type": "code",
   "execution_count": null,
   "source": [
    "# B. In one line create a list of the numbers 1-100 to the power of 3\n",
    "one_line = [number ** 3 for number in range(1, 101)]\n",
    "print(one_line)"
   ],
   "outputs": [],
   "metadata": {}
  },
  {
   "cell_type": "code",
   "execution_count": null,
   "source": [
    "# C. Iterate a list of names to create a list of tuples where the tuples first value is the length of the name and the second is the name\n",
    "my_list = ['Peter', 'Jens', 'Hans', 'Tobias']\n",
    "tuple_list = tuple([(len(element), element) for element in my_list])\n",
    "print(tuple_list)"
   ],
   "outputs": [],
   "metadata": {}
  },
  {
   "cell_type": "code",
   "execution_count": null,
   "source": [
    "# D. Iterate over each character in a string and get only those that are nummeric\n",
    "my_string = \"Hanse1mand2\"\n",
    "numeric_list = [element for element in my_string if element.isdigit()]\n",
    "print(numeric_list)"
   ],
   "outputs": [],
   "metadata": {}
  },
  {
   "cell_type": "code",
   "execution_count": null,
   "source": [
    "# E. Using only a list comprehension wrapped in set() get all possible combination from throwing 2 dice \n",
    "# # (hint use 2 for loops in a single list comprehension)\n",
    "my_dice_list = set([(val1,val2) for val1 in range(1,7) for val2 in range(1,7)])\n",
    "print(my_dice_list)"
   ],
   "outputs": [],
   "metadata": {}
  },
  {
   "cell_type": "markdown",
   "source": [
    "## 02 Status\n",
    "Here is a status on the handin. How far you got. What is implemented and what is not"
   ],
   "metadata": {}
  },
  {
   "cell_type": "code",
   "execution_count": null,
   "source": [
    "# A. Iterate a list of names and create a dictionary where key is the name and value is the length of the name\n",
    "my_list = ['Peter', 'Jens', 'Tobias']\n",
    "my_dict_list = dict([(element, len(element)) for element in my_list])\n",
    "print(my_dict_list)"
   ],
   "outputs": [],
   "metadata": {}
  },
  {
   "cell_type": "code",
   "execution_count": null,
   "source": [
    "# B. Iterate a list of numbers and create a dictionary with {key:value} being {number:squareroot_of_number}\n",
    "import math\n",
    "my_list = [1, 2, 3, 4]\n",
    "my_dict_sqr_number = dict([(value, math.sqrt(value)) for value in my_list])\n",
    "print(my_dict_sqr_number)"
   ],
   "outputs": [],
   "metadata": {}
  },
  {
   "cell_type": "markdown",
   "source": [
    "## 03 Solution part 1"
   ],
   "metadata": {}
  },
  {
   "cell_type": "code",
   "execution_count": null,
   "source": [
    "# Progammatically using loops create a small program to produce a dictionary with all the 2 dice throw combinations as keys (eg: 2,3,4...etc) and their likelyhood in percent as values\n",
    "\n",
    "\n",
    "combinations = []\n",
    "for i in range(1, 7):\n",
    "    for j in range(1, 7):\n",
    "           combinations.append(i+j)\n",
    "\n",
    "probability = []\n",
    "for i in combinations:\n",
    "    probability_i = round(1/len(combinations), 3)\n",
    "    probability.append(probability_i)\n",
    "\n",
    "\n",
    "my_dict = dict([(key, value) for key in combinations for value in probability])\n",
    "my_dict"
   ],
   "outputs": [],
   "metadata": {}
  }
 ],
 "metadata": {
  "kernelspec": {
   "name": "python3",
   "display_name": "Python 3.7.6 64-bit ('base': conda)"
  },
  "language_info": {
   "codemirror_mode": {
    "name": "ipython",
    "version": 3
   },
   "file_extension": ".py",
   "mimetype": "text/x-python",
   "name": "python",
   "nbconvert_exporter": "python",
   "pygments_lexer": "ipython3",
   "version": "3.7.6"
  },
  "interpreter": {
   "hash": "98b0a9b7b4eaaa670588a142fd0a9b87eaafe866f1db4228be72b4211d12040f"
  }
 },
 "nbformat": 4,
 "nbformat_minor": 4
}